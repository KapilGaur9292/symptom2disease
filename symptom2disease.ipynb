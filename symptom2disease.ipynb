{
  "nbformat": 4,
  "nbformat_minor": 0,
  "metadata": {
    "colab": {
      "provenance": [],
      "gpuType": "T4"
    },
    "kernelspec": {
      "name": "python3",
      "display_name": "Python 3"
    },
    "language_info": {
      "name": "python"
    },
    "accelerator": "GPU"
  },
  "cells": [
    {
      "cell_type": "code",
      "execution_count": 1,
      "metadata": {
        "id": "ZsiQfHmsqQBs"
      },
      "outputs": [],
      "source": [
        "import numpy as np\n",
        "import pandas as pd\n",
        "import matplotlib.pyplot as plt\n"
      ]
    },
    {
      "cell_type": "code",
      "source": [
        "dataset = pd.read_csv(\"Symptom2Disease.csv\")\n",
        "dataset.head()"
      ],
      "metadata": {
        "colab": {
          "base_uri": "https://localhost:8080/",
          "height": 206
        },
        "id": "bZGffyBhPmPf",
        "outputId": "63b26305-0c19-4a88-ebfb-a69019fd1664"
      },
      "execution_count": 2,
      "outputs": [
        {
          "output_type": "execute_result",
          "data": {
            "text/plain": [
              "   Unnamed: 0      label                                               text\n",
              "0           0  Psoriasis  I have been experiencing a skin rash on my arm...\n",
              "1           1  Psoriasis  My skin has been peeling, especially on my kne...\n",
              "2           2  Psoriasis  I have been experiencing joint pain in my fing...\n",
              "3           3  Psoriasis  There is a silver like dusting on my skin, esp...\n",
              "4           4  Psoriasis  My nails have small dents or pits in them, and..."
            ],
            "text/html": [
              "\n",
              "\n",
              "  <div id=\"df-f97182e2-3ee5-4654-a15b-00323d8c77d0\">\n",
              "    <div class=\"colab-df-container\">\n",
              "      <div>\n",
              "<style scoped>\n",
              "    .dataframe tbody tr th:only-of-type {\n",
              "        vertical-align: middle;\n",
              "    }\n",
              "\n",
              "    .dataframe tbody tr th {\n",
              "        vertical-align: top;\n",
              "    }\n",
              "\n",
              "    .dataframe thead th {\n",
              "        text-align: right;\n",
              "    }\n",
              "</style>\n",
              "<table border=\"1\" class=\"dataframe\">\n",
              "  <thead>\n",
              "    <tr style=\"text-align: right;\">\n",
              "      <th></th>\n",
              "      <th>Unnamed: 0</th>\n",
              "      <th>label</th>\n",
              "      <th>text</th>\n",
              "    </tr>\n",
              "  </thead>\n",
              "  <tbody>\n",
              "    <tr>\n",
              "      <th>0</th>\n",
              "      <td>0</td>\n",
              "      <td>Psoriasis</td>\n",
              "      <td>I have been experiencing a skin rash on my arm...</td>\n",
              "    </tr>\n",
              "    <tr>\n",
              "      <th>1</th>\n",
              "      <td>1</td>\n",
              "      <td>Psoriasis</td>\n",
              "      <td>My skin has been peeling, especially on my kne...</td>\n",
              "    </tr>\n",
              "    <tr>\n",
              "      <th>2</th>\n",
              "      <td>2</td>\n",
              "      <td>Psoriasis</td>\n",
              "      <td>I have been experiencing joint pain in my fing...</td>\n",
              "    </tr>\n",
              "    <tr>\n",
              "      <th>3</th>\n",
              "      <td>3</td>\n",
              "      <td>Psoriasis</td>\n",
              "      <td>There is a silver like dusting on my skin, esp...</td>\n",
              "    </tr>\n",
              "    <tr>\n",
              "      <th>4</th>\n",
              "      <td>4</td>\n",
              "      <td>Psoriasis</td>\n",
              "      <td>My nails have small dents or pits in them, and...</td>\n",
              "    </tr>\n",
              "  </tbody>\n",
              "</table>\n",
              "</div>\n",
              "      <button class=\"colab-df-convert\" onclick=\"convertToInteractive('df-f97182e2-3ee5-4654-a15b-00323d8c77d0')\"\n",
              "              title=\"Convert this dataframe to an interactive table.\"\n",
              "              style=\"display:none;\">\n",
              "\n",
              "  <svg xmlns=\"http://www.w3.org/2000/svg\" height=\"24px\"viewBox=\"0 0 24 24\"\n",
              "       width=\"24px\">\n",
              "    <path d=\"M0 0h24v24H0V0z\" fill=\"none\"/>\n",
              "    <path d=\"M18.56 5.44l.94 2.06.94-2.06 2.06-.94-2.06-.94-.94-2.06-.94 2.06-2.06.94zm-11 1L8.5 8.5l.94-2.06 2.06-.94-2.06-.94L8.5 2.5l-.94 2.06-2.06.94zm10 10l.94 2.06.94-2.06 2.06-.94-2.06-.94-.94-2.06-.94 2.06-2.06.94z\"/><path d=\"M17.41 7.96l-1.37-1.37c-.4-.4-.92-.59-1.43-.59-.52 0-1.04.2-1.43.59L10.3 9.45l-7.72 7.72c-.78.78-.78 2.05 0 2.83L4 21.41c.39.39.9.59 1.41.59.51 0 1.02-.2 1.41-.59l7.78-7.78 2.81-2.81c.8-.78.8-2.07 0-2.86zM5.41 20L4 18.59l7.72-7.72 1.47 1.35L5.41 20z\"/>\n",
              "  </svg>\n",
              "      </button>\n",
              "\n",
              "\n",
              "\n",
              "    <div id=\"df-d279b118-3cb7-464f-b388-403ebfc7e17a\">\n",
              "      <button class=\"colab-df-quickchart\" onclick=\"quickchart('df-d279b118-3cb7-464f-b388-403ebfc7e17a')\"\n",
              "              title=\"Suggest charts.\"\n",
              "              style=\"display:none;\">\n",
              "\n",
              "<svg xmlns=\"http://www.w3.org/2000/svg\" height=\"24px\"viewBox=\"0 0 24 24\"\n",
              "     width=\"24px\">\n",
              "    <g>\n",
              "        <path d=\"M19 3H5c-1.1 0-2 .9-2 2v14c0 1.1.9 2 2 2h14c1.1 0 2-.9 2-2V5c0-1.1-.9-2-2-2zM9 17H7v-7h2v7zm4 0h-2V7h2v10zm4 0h-2v-4h2v4z\"/>\n",
              "    </g>\n",
              "</svg>\n",
              "      </button>\n",
              "    </div>\n",
              "\n",
              "<style>\n",
              "  .colab-df-quickchart {\n",
              "    background-color: #E8F0FE;\n",
              "    border: none;\n",
              "    border-radius: 50%;\n",
              "    cursor: pointer;\n",
              "    display: none;\n",
              "    fill: #1967D2;\n",
              "    height: 32px;\n",
              "    padding: 0 0 0 0;\n",
              "    width: 32px;\n",
              "  }\n",
              "\n",
              "  .colab-df-quickchart:hover {\n",
              "    background-color: #E2EBFA;\n",
              "    box-shadow: 0px 1px 2px rgba(60, 64, 67, 0.3), 0px 1px 3px 1px rgba(60, 64, 67, 0.15);\n",
              "    fill: #174EA6;\n",
              "  }\n",
              "\n",
              "  [theme=dark] .colab-df-quickchart {\n",
              "    background-color: #3B4455;\n",
              "    fill: #D2E3FC;\n",
              "  }\n",
              "\n",
              "  [theme=dark] .colab-df-quickchart:hover {\n",
              "    background-color: #434B5C;\n",
              "    box-shadow: 0px 1px 3px 1px rgba(0, 0, 0, 0.15);\n",
              "    filter: drop-shadow(0px 1px 2px rgba(0, 0, 0, 0.3));\n",
              "    fill: #FFFFFF;\n",
              "  }\n",
              "</style>\n",
              "\n",
              "    <script>\n",
              "      async function quickchart(key) {\n",
              "        const containerElement = document.querySelector('#' + key);\n",
              "        const charts = await google.colab.kernel.invokeFunction(\n",
              "            'suggestCharts', [key], {});\n",
              "      }\n",
              "    </script>\n",
              "\n",
              "      <script>\n",
              "\n",
              "function displayQuickchartButton(domScope) {\n",
              "  let quickchartButtonEl =\n",
              "    domScope.querySelector('#df-d279b118-3cb7-464f-b388-403ebfc7e17a button.colab-df-quickchart');\n",
              "  quickchartButtonEl.style.display =\n",
              "    google.colab.kernel.accessAllowed ? 'block' : 'none';\n",
              "}\n",
              "\n",
              "        displayQuickchartButton(document);\n",
              "      </script>\n",
              "      <style>\n",
              "    .colab-df-container {\n",
              "      display:flex;\n",
              "      flex-wrap:wrap;\n",
              "      gap: 12px;\n",
              "    }\n",
              "\n",
              "    .colab-df-convert {\n",
              "      background-color: #E8F0FE;\n",
              "      border: none;\n",
              "      border-radius: 50%;\n",
              "      cursor: pointer;\n",
              "      display: none;\n",
              "      fill: #1967D2;\n",
              "      height: 32px;\n",
              "      padding: 0 0 0 0;\n",
              "      width: 32px;\n",
              "    }\n",
              "\n",
              "    .colab-df-convert:hover {\n",
              "      background-color: #E2EBFA;\n",
              "      box-shadow: 0px 1px 2px rgba(60, 64, 67, 0.3), 0px 1px 3px 1px rgba(60, 64, 67, 0.15);\n",
              "      fill: #174EA6;\n",
              "    }\n",
              "\n",
              "    [theme=dark] .colab-df-convert {\n",
              "      background-color: #3B4455;\n",
              "      fill: #D2E3FC;\n",
              "    }\n",
              "\n",
              "    [theme=dark] .colab-df-convert:hover {\n",
              "      background-color: #434B5C;\n",
              "      box-shadow: 0px 1px 3px 1px rgba(0, 0, 0, 0.15);\n",
              "      filter: drop-shadow(0px 1px 2px rgba(0, 0, 0, 0.3));\n",
              "      fill: #FFFFFF;\n",
              "    }\n",
              "  </style>\n",
              "\n",
              "      <script>\n",
              "        const buttonEl =\n",
              "          document.querySelector('#df-f97182e2-3ee5-4654-a15b-00323d8c77d0 button.colab-df-convert');\n",
              "        buttonEl.style.display =\n",
              "          google.colab.kernel.accessAllowed ? 'block' : 'none';\n",
              "\n",
              "        async function convertToInteractive(key) {\n",
              "          const element = document.querySelector('#df-f97182e2-3ee5-4654-a15b-00323d8c77d0');\n",
              "          const dataTable =\n",
              "            await google.colab.kernel.invokeFunction('convertToInteractive',\n",
              "                                                     [key], {});\n",
              "          if (!dataTable) return;\n",
              "\n",
              "          const docLinkHtml = 'Like what you see? Visit the ' +\n",
              "            '<a target=\"_blank\" href=https://colab.research.google.com/notebooks/data_table.ipynb>data table notebook</a>'\n",
              "            + ' to learn more about interactive tables.';\n",
              "          element.innerHTML = '';\n",
              "          dataTable['output_type'] = 'display_data';\n",
              "          await google.colab.output.renderOutput(dataTable, element);\n",
              "          const docLink = document.createElement('div');\n",
              "          docLink.innerHTML = docLinkHtml;\n",
              "          element.appendChild(docLink);\n",
              "        }\n",
              "      </script>\n",
              "    </div>\n",
              "  </div>\n"
            ]
          },
          "metadata": {},
          "execution_count": 2
        }
      ]
    },
    {
      "cell_type": "code",
      "source": [
        "import re\n",
        "import nltk\n",
        "nltk.download('stopwords')\n",
        "from nltk.corpus import stopwords\n",
        "from nltk.stem.porter import PorterStemmer\n",
        "corpus = []\n",
        "for i in range(0, 1200):\n",
        "  review = re.sub('[^a-zA-Z]', ' ', dataset['text'][i])\n",
        "  review = review.lower()\n",
        "  review = review.split()\n",
        "  ps = PorterStemmer()\n",
        "  all_stopwords = stopwords.words('english')\n",
        "  all_stopwords.remove('not')\n",
        "  review = [ps.stem(word) for word in review if not word in set(all_stopwords)]\n",
        "  review = ' '.join(review)\n",
        "  corpus.append(review)"
      ],
      "metadata": {
        "colab": {
          "base_uri": "https://localhost:8080/"
        },
        "id": "BbdrCfPmP_sU",
        "outputId": "aae874ab-3b1c-4b99-9d89-cc49a3fe6107"
      },
      "execution_count": 3,
      "outputs": [
        {
          "output_type": "stream",
          "name": "stderr",
          "text": [
            "[nltk_data] Downloading package stopwords to /root/nltk_data...\n",
            "[nltk_data]   Unzipping corpora/stopwords.zip.\n"
          ]
        }
      ]
    },
    {
      "cell_type": "code",
      "source": [
        "print(corpus)"
      ],
      "metadata": {
        "colab": {
          "base_uri": "https://localhost:8080/"
        },
        "id": "jUwEtizORd-k",
        "outputId": "059c56fa-04ce-47ea-bdb1-547f50b8fa1c"
      },
      "execution_count": 4,
      "outputs": [
        {
          "output_type": "stream",
          "name": "stdout",
          "text": [
            "['experienc skin rash arm leg torso past week red itchi cover dri scali patch', 'skin peel especi knee elbow scalp peel often accompani burn sting sensat', 'experienc joint pain finger wrist knee pain often achi throb get wors move joint', 'silver like dust skin especi lower back scalp dust made small scale flake easili scratch', 'nail small dent pit often feel inflammatori tender touch even minor rash arm', 'skin palm sole thicken deep crack crack pain bleed easili', 'skin around mouth nose eye red inflam often itchi uncomfort notic inflamm nail', 'skin sensit react easili chang temperatur humid often care product use skin', 'notic sudden peel skin differ part bodi mainli arm leg back also face sever joint pain skin rash', 'skin genit red inflam often itchi burn uncomfort rash differ part bodi', 'experienc fatigu gener feel malais often feel tire lack energi even good night sleep', 'rash skin spread part bodi includ chest abdomen itchi uncomfort often wors night also face skin peel', 'rash skin wors winter month air dri find moistur frequent use humidifi keep skin hydrat', 'experienc difficulti sleep due itch discomfort caus rash small dent nail realli concern', 'skin prone infect due dri flaki patch experienc strong pain joint skin knee elbow start peel', 'start rash skin rash often bleed scratch rub moreov notic small dent nail', 'notic skin becom sensit use silver like dust skin especi back elbow', 'worri constant peel skin palm elbow knee develop rash arm itch touch make life quit discomfort miser', 'strang pain joint also notic strang peel skin differ part bodi afraid someth wrong go bodi', 'nail small dent even joint start pain sever silver like dust skin particularli back', 'rash skin not heal moreov notic sudden peel skin especi skin elbow knee realli worri', 'past week skin rash arm leg chest red irrit dri scali spot strang pain joint', 'skin peel particularli knee elbow scalp peel frequent accompani sting burn feel', 'joint discomfort finger wrist knee pain frequent ach throb worsen move joint', 'skin silveri film particularli back arm scalp dust compos tini scale easili peel scratch', 'red inflammatori skin around mouth nose eye frequent irrit unpleas recent got pain', 'skin extrem sensit quickli irrit chang temperatur humid nail develop dent worri sudden chang', 'seen sudden peel skin variou region bodi mostli arm leg back addit signific joint pain skin rash rash spread differ part bodi', 'genit skin red irrit frequent irrit burn unpleas also rash variou place bodi also strang pain joint', 'troubl sleep itch pain produc rash nail littl dent realli alarm notic inflamm nail', 'dri flaki area skin prone infect joint excruci agoni skin knee elbow begin flake', 'skin break rash scratch rub rash frequent bleed addit observ littl dent nail notic inflamm nail', 'observ skin sensit use skin silveri film especi back elbow', 'palm sole grown develop sever fissur crack unpleas frequent bleed also skin start peel', 'nail start small pit worri know caus also joint pain rash arm back', 'silver like dust skin moreov skin arm back start peel strang realli concern', 'skin rash extend area bodi includ chest belli irrit unpleas frequent worst night also experienc skin flake', 'skin rash get wors winter air dri keep skin moistur moistur regularli use humidifi also face joint pain', 'troubl sleep itch pain produc rash nail littl dent also experienc skin peel differ part bodi', 'skin peel place especi knee elbow arm peel often accompani pain burn sensat also develop small dent nail realli concern', 'skin silveri layer especi back arm dust made small scale peel readili rub also rash bodi', 'arm face back red irrit frequent irrit unpleas nail strang inflamm develop small dent never seen anyth like', 'troubl sleep itch pain produc rash nail littl dent realli alarm moreov joint pain everyday idea caus', 'finger sole pretti thick skin crack sever fractur hurt bleed frequent fractur itchi cover scale', 'skin chang less sensit sensit skin silveri coat especi back elbow knee', 'nail slightli dent even joint experienc excruci discomfort skin silver like powder especi back elbow', 'troubl fall asleep rash pain itch skin finger start peel nail tini crack realli worri', 'joint experienc unusu discomfort addit experienc weird skin peel variou place bodi concern someth wrong bodi', 'start rash arm neck rash often bleed hurt scratch also develop small dent nail strang', 'dri flaki area skin prone infect joint extrem pain knee elbow skin start peel', 'rash leg caus lot discomfort seem cramp see promin vein calf also feel tire fatigu past coupl day', 'calv cramp walk stand long period time bruis mark calv make worri feel tire soon', 'bruis leg cannot explain see strang blood vessel skin also slightli obes realli worri', 'overweight notic leg swollen blood vessel visibl leg swollen see stream swollen vein calv', 'vein calv becom promin caus discomfort stand long period time caus pain leg similar cramp', 'skin around vein leg red inflam believ see swollen blood vessel realli worri', 'stand walk long period time caus lot pain leg get cramp upon physic activ bruis mark leg', 'cramp calv make difficult walk feel fatigu work time believ obes reason behind', 'swell leg gotten wors past week larg number vein notic calv make worri', 'vein leg notic caus discomfort seem like major bruis get cramp run', 'skin calv becom inflam red leg hurt tri run physic activ', 'recent pain calv constant becom wors stand walk long period time leg start swell also blood vessel quit notic', 'vein leg caus discomfort difficulti sleep night idea happen get cramp sprint', 'swell leg caus difficulti fit shoe sprint stand long period time see swollen blood vessel', 'notic cramp calv becom frequent intens caus lot discomfort also overweight leg start swell', 'vein leg caus lot discomfort sit long period time', 'rash leg spread becom sever becom difficult run', 'leg caus lot discomfort exercis get frequent cramp blood vessel becom quit notic', 'promin blood vessel calv caus self conscious embarrass believ problem overweight', 'skin around vein leg dri flaki seem major bruis leg start swell', 'experienc rash leg caus lot irrit discomfort red inflam appear spread', 'recent calv cramp frequent especi walk stand long period time also vein notic', 'notic bruis leg cannot explain not pain concern', 'overweight notic leg swollen blood vessel visibl usual swell seem get wors time', 'vein calv promin caus lot discomfort swollen protrud skin', 'skin around vein leg red inflam itchi caus lot discomfort start get regular cramp', 'stand walk long period time caus lot pain leg feel like cramp becom wors longer feet', 'cramp calv make difficult walk daili activ come suddenli last sever minut', 'swell leg gotten wors past week caus difficulti fit shoe also caus discomfort sit long period time', 'vein leg notic caus lot discomfort swollen protrud skin make visibl cloth', 'skin calv itchi inflam caus lot discomfort difficulti sleep night blood vessel start protrud concern', 'pain calv constant becom wors stand walk long period time get constant cramp run longer period time', 'vein leg caus discomfort difficulti sleep night swollen protrud skin make notic pain', 'swell leg caus difficulti fit shoe caus discomfort sit long period time', 'cramp calv becom frequent intens make difficult walk daili activ', 'vein leg caus lot discomfort sit long period time swollen protrud skin make pain notic', 'rash leg spread becom sever red inflam itchi caus lot discomfort difficulti sleep night', 'leg caus lot discomfort exercis feel heavi swollen vein promin pain feel fatigu time', 'promin vein calv caus self conscious embarrass swollen protrud skin make notic', 'skin around vein leg dri flaki caus discomfort irrit also start get frequent cramp', 'rash leg give lot pain appear cramp see visibl vein calf', 'vein leg becom visibl swollen normal visibl skin hurt move', 'walk tough cramp calv obes believ caus work exhaust', 'blood vessel leg quit visibl give lot pain larg protrud skin unusu worri', 'notic blood vessel leg get notic usual littl concern moreov experienc cramp everi day', 'leg swell becom wors last coupl day see blood vessel protrud skin quit unusu', 'long durat stand walk caus sever discomfort leg burn ach get wors longer feet', 'leg skin around vein unusu appear larg bruis nowaday get frequent cramp sprint run', 'experienc mani cramp last coupl day think someth not right believ small bruis calv not sure', 'vein calv protrud quit unusu worri also overweight believ reason behind', 'constip belli pain realli uncomfort belli pain get wors start affect daili life moreov get chill everi night follow mild fever', 'also diarrhea realli unpleas come go accompani abdomin cramp bloat', 'experienc chill fever along sever abdomin pain feel realli miser overal seem shake symptom', 'lot troubl keep hydrat vomit diarrhea mild fever along constip headach', 'lost lot weight past week abl eat much due nausea vomit follow mild fever headach belli pain realli concern health', 'fatigu realli uncomfort lot difficulti usual activ also feel realli depress irrit mild pain abdomin part', 'persist headach past week get wors accompani belli ach constip diarrhea', 'experienc high fever especi night realli uncomfort mild headach along constip diarrhea', 'lot difficulti breath feel like constantli nauseou also mild belli pain terrifi time', 'diarrhea realli wateri foul smell accompani abdomin pain feel like vomit time', 'lot troubl sleep high fever headach chill wake everi day terribl pain belli area', 'also experienc diarrhea constip realli worri feel like sharp stab pain belli area feel tire time', 'constip belli pain realli uncomfort pain get wors realli affect daili life', 'experienc lot belli pain constip realli annoy sometim feel strong urg vomit feel weak', 'abdomin pain come go realli unpleas accompani constip vomit feel realli concern health', 'experienc lot bloat constip realli uncomfort feel like lot pressur pain belli area', 'experienc extrem belli pain constip everi night sever fever along chill headach last coupl day realli uncomfort', 'feel exhaust weak seem get rid vomit nausea entir lost appetit belli pain caus concern', 'experienc constip stomach ach realli difficult discomfort gotten wors serious interf everyday life', 'vomit diarrhea lot difficulti stay hydrat high fever well constip headach', 'abdomin pain frequent realli pain constip vomit also occur quit worri health', 'sever stomach pain constip everi night get headach chill last day realli pain', 'distinct pain abdomin part not sure also go constant vomit feel nauseou', 'diarrhea quit fluid smelli accompani sever abdomin pain headach time feel like vomit', 'fever last coupl day start experi sever pain stomach area suffer constip', 'experienc lot nausea vomit quit difficult eat anyth entir lost appetit result becom quit weak', 'lot troubl sleep high fever headach moreov constant belli pain go work', 'feel realli fatigu weak seem get rid mild fever strang pain abdomin area understand happen', 'suffer constip stomach discomfort realli uncomfort last night mild fever', 'also suffer diarrhea realli uncomfort come goe accompani stomach ach vomit', 'experienc chill fever extrem stomach discomfort gener unhappi seem get rid symptom', 'vomit diarrhea lot difficulti stay hydrat mild fever well stomach pain', 'develop diarrhea accompani sever pain belli area feel like eat anyth time mild headach', 'lot bloat constip realli pain lot pressur pain stomach area get high fever chill everi night', 'persist stomach pain past week not heal even medic feel like vomit eat anyth becom extrem weak', 'sever stomach discomfort diarrhoea high fever along headach previou sever day realli unpleas', 'terribl pain abdomin part feel realli nauseat also experienc mild fever realli worri', 'experienc constip stomach ach discomfort gotten wors serious interf everyday life feel like lost appetit eat anyth', 'time feel fatigu want eat anyth get high fever chill everi night moreov vomit sinc yesterday', 'lost appetit notic signific weight loss abdomin pain especi area stomach intestin concern health', 'stomach discomfort sever frequent vomit constip also happen concern health', 'experienc diarrhea loos wateri stool sever time day lost appetit feel nauseat time start get mild fever', 'feel quit weak lot stomach discomfort constip realli bother strong urg vomit time result eat anyth', 'strang pain stomach area know reason behind moreov start get mild fever along chill headach', 'high fever particularli night quit unpleas littl headach well constip diarrhea feel like eat anyth', 'lot troubl stay hydrat vomit diarrhea high fever constip headach also start get strang pain stomach area anyth physic', 'get headach past week grow wors accompani stomach pain constip diarrhea know happen realli worri', 'lost lot weight last week eat much due nausea vomit follow high fever headach stomach pain', 'diarrhea constip quit concern stomach sever pain ach constantli exhaust feel like eat anyth', 'diarrhoea loos wateri stool mani time day lost appetit alway sick also develop mild fever also abdomin part pain lot know reason behind', 'experienc intens itch skin drive crazi also rash red inflam', 'feel fatigu energi bare keep eye open day feel letharg unabl motiv', 'high fever past day know caus also notic rash skin hard resist scratch', 'lost appetit seem eat anyth worri health', 'small red spot bodi explain worri feel extrem tire experi mild fever everi night', 'lymph node swollen caus discomfort neck armpit know caus', 'feel realli sick uncomfort like someth wrong insid know could notic small red spot arm itch touch', 'itch make hard sleep night get rest also lost appetit feel letharg', 'worri rash skin spread rapidli caus lot discomfort hardli sleep night itch', 'energi lost appetit feel realli sick know wrong', 'skin rash red inflam spread bodi experienc intens itch especi arm leg', 'high fever past day start worri know caus also red spot arm leg swollen', 'skin rash red swollen spread bodi mild fever caus lot discomfort', 'feel fatigu energi bare keep eye open day feel letharg unabl motiv', 'small red spot bodi explain bump itchi uncomfort seem spread rapidli worri', 'itch make hard sleep night seem get rest rash itchi uncomfort feel realli tire exhaust', 'energi lost appetit high fever sever headach know wrong', 'high fever swollen lymph node caus much discomfort headach feel weak fatigu hard concentr fever', 'rash skin caus lot discomfort red inflam spread bodi rash accompani intens itch especi arm leg', 'red spot bodi explain spot itchi start swell spread rapidli', 'small lymph node arm face itch make day uncomfort', 'energi lost appetit feel realli sick know wrong also small red spot start show skin', 'mild fever past day start worri fever accompani sever headach feel weak letharg', 'swollen lymph node red spot bodi caus discomfort also mild fever feel tire time', 'suffer sever itch bodi drive insan also red irrit rash', 'seen rash skin difficult not scratch also high fever sever day not sure caus', 'littl red spot bodi understand worri lost appetit everi night exhaust sever headach', 'feel realli sick lost appetit seen littl red patch arm neck face itch touch', 'red spot arm leg itch make difficult sleep night also sever headach mild fever', 'enlarg lymph node give great deal pain rash bodi cannot sleep night', 'skin rash give lot pain discomfort red swollen spread throughout bodi', 'high fever mild headach tire time complet lost appetit', 'arm face small lymph node start swell day made realli miser constant itch pain', 'arm neck larg lymph node itch touch itch made day extrem uncomfort', 'skin rash caus great deal pain also small red spot develop near neck sinc yesterday sever fever headach fatigu', 'start develop tini red spot face neck area itch touch itch make day uncomfort', 'lost appetit complet seem eat anyth feel like vomit feel exhaust notic rash skin realli concern', 'high fever sever headach seem eat anyth feel like vomit also red spot develop arm realli worri', 'worri red spot skin spread rapidli caus lot problem also develop mild fever headach everi night', 'feel realli nauseou uneasi not sure might seen rash arm leg lost appetit feel exhaust everi day', 'swollen red lymph node arm leg itch touch also suffer terribl headach mild fever feel like eat anyth lost appetit', 'realli exhaust lack energi hardli keep eye open day mild fever feel like eat anyth think lost appetit', 'exhaust lost appetit feel vomit eat anyth addit littl red spot begin appear skin near neck realli worri health', 'small red spot bodi spot itchi uncomfort also mild fever headach', 'suffer sever itch bodi along fever headach red spot start swell get realli uncomfort everi day', 'feel tire everi day red spot arm back itch touch realli worri not sure', 'high fever swollen lymph node headach caus lot troubl feel like eat anyth feel weak fatigu hard concentr daili life', 'high fever red spot rash bodi feel exhaust complet lost appetit made weak letharg realli worri', 'seen rash arm neck itch scratch also high fever day idea caus itch caus lot discomfort', 'red swollen spot bodi itch touch moreov also high fever headach alway feel exhaust', 'develop skin rash face neck rash made red sore blister worri health', 'develop skin rash made blister sore blister sore rais fluid fill lesion pain touch also suffer high fever', 'high fever red sore develop near nose sore pain yellow rust color ooz come', 'rash around nose larg red sore notic rash spread part bodi also high fever everi night', 'suffer high fever last coupl day sore develop near nose sore pain feel uncomfort day', 'skin develop rash mainli near nose rash spread part bodi realli worri', 'experienc extrem fatigu high fever rash near nose mouth rash itchi make difficult sleep', 'suffer extrem fever weak develop sore face sore itchi uncomfort often yellow color ooz come sore', 'notic sore take longer heal prone infect sore face swollen tender touch uncomfort handl', 'red sore face near nose notic rash spread quickli neck chest', 'sore around nose becom crust difficult touch yellow rust colour ooz use come sore take much time handl', 'develop minor rash near nose day ago rash accompani burn sensat red skin feel kind infect', 'initi develop small red sore near nose neck high fever sore becom pain inflam past day', 'notic skin rash face made blister sore today observ yellow color fluid come sore not sure', 'sore face begin weep clear fluid also everi night get high fever chill cannot sleep night', 'initi rash face near nose rash spread arm leg', 'high fever everi night develop sore face particularli near nose notic sore take longer heal prone infect', 'sore around nose surround red inflam skin rash caus skin becom dri flaki visibl yellow color fluid come sore', 'also experienc flu like symptom fever bodi pain notic red rash blister sore near nose lip itchi uncomfort', 'suffer mild fever headach small sore near nose rash neck go tough time right', 'rash particularli bad around nose larg red sore pain yellow rust color ooz come', 'sore face mostli near nose lip sore caus discomfort pain discharg yellow rust color fluid', 'develop sore face nose area not sure caus sore face swollen tender touch burn sensat red skin', 'rash face becom pain inflam past day sore begin weep clear fluid get extrem pain day', 'rash face start small sore around nose often yellow fluid come sore sore becom extrem pain', 'feel realli sick high fever headach notic rash arm face extrem worri today observ red sore near nose', 'suffer high fever past day sore form around nose rash differ part bodi sore sever feel realli uneasi day', 'high fever realli weak face gotten sore blister itchi pain yellow ooz frequent leak wound', 'experienc skin rash burn sore blister sore fluid fill elev red color lesion unpleas touch also high fever', 'believ skin diseas rash face small sore near nose sore becom red pain kind yellow ooz discharg', 'notic sore face heal slowli like becom infect cheek sore larg pain touch extrem difficult handl seem get rid sore', 'high fever skin rash face neck arm rash made burn red lesion concern health', 'acquir skin rash blister sore blister sore fluid fill elev lesion unpleas touch also run high fever', 'run high temperatur near nose red sore form lesion pain yellow rust color fluid ooz', 'rash around nose well huge red sore rash spread place bodi seen addit high temperatur everi night', 'cheek nose cover red sore observ rash neck chest spread faster also develop mild fever', 'nasal sore crust becom difficult touch wound use leak yellow rust colour fluid take lot longer deal use medic', 'day ago experienc tini rash around nose rash accompani burn feel skin red discharg fluid believ sort infect', 'small red sore appear near nose neck first high temperatur sore gotten pain inflam recent day', 'rash develop around nose lip huge red lesion pain emit yellow rust color fluid', 'face cover sore near nose lip lesion caus discomfort suffer yellow rust color fluid ooz', 'start get sore face nose idea caus cheek sore larg irrit touch burn feel skin red', 'last two day rash face gotten sever inflam blister begun bleed clear pu realli pain deal', 'feel skin condit face rash littl blister around nose wound turn red pain yellow liquid ooz', 'observ lesion face heal slower prone infect lesion cheek huge unpleas touch incred difficult treat seem get sore go away', 'run high temperatur develop rash face neck arm rash consist pain red lesion health concern', 'last week rash face gotten sever pain sore begun discharg yellow color fluid becom increasingli pain day', 'rash face develop littl sore around nose yellow ooz frequent ooz lesion becom even pain', 'feel quit ill high fever headach rash appear arm face quit concern saw red sore around nose lip today', 'rash face not heal tri medic not help much recent notic small sore near nose pain difficult handl', 'face sever joint pain vomit develop skin rash cover entir bodi accompani intens itch', 'experienc chill shiver despit warm environ back pain time red spot arm', 'experienc sever joint pain make difficult move perform daili activ also lost apetit feel weak', 'vomit frequent lost appetit result joint back pain time', 'high fever accompani sever headach bodi pain experinc chill everi night distinct pain behind eye', 'feel extrem tire fatigu energi anyth develop rash neck itch upon touch', 'experienc sever headach accompani pain behind eye lost apetit experi chill everi night', 'feel nauseou constant urg vomit strong pain behind eye small red spot arm', 'develop red spot bodi itchi inflam also experienc high fever along chill shiver', 'experienc muscl pain make difficult move around lost apetit feel vomit leg back pain lot', 'experienc back pain wors sit stand long time also rash bodi pain behind eye', 'skin rash develop accompani red swell feel well sever fever accompani bodi pain', 'chill shiver experienc accompani feel cold high fever also develop rash arm red spot neck', 'joint pain experienc sever feel like constant ach head ach time start develop mild fever accompani chill', 'vomit experienc accompani stomach cramp dizzi lost apetit feel weak result pain behind eye', 'high fever experienc accompani sweat weak muscl pain result cannot work day', 'fatigu feel extrem make difficult perform even basic task feel vomit develop rash arm neck leg', 'headach experienc sever accompani feel pressur head mild fever along headach small red spot back', 'nausea feel accompani loss appetit feel uneas distinct pain back muscl pain', 'muscl pain experienc sever feel like constant ach red spot bodi itch caus lot discomfort', 'develop skin rash cover entir bodi accompani intens itch bodi pain mild fever acompani headach chill', 'experienc extrem bodi pain headach vomit develop red spot cover entir bodi caus sever itch', 'back hurt time arm neck rash back eye pain lot also fever make worri health', 'suffer signific joint pain make difficult walk carri everyday task also lost appetit make feel weak feel like vomit', 'constant behind eye develop red spot neck face rash arm arm leg pain lot spot itchi uncomfort worri', 'feel sick feel strong need vomit sharp ach behind eye swollen red dot back', 'shiver shiver accompani sensat cold high fever rash arm red patch neck also appear', 'suffer sever joint ach feel vomit time develop moder fever chill fever seem come even medic', 'vomit follow stomach pain dizzi lost appetit result feel weak arm back neck pain time', 'develop red spot arm leg itchi inflam feel nauseau constant urg vomit accomapani mild fever', 'develop skin rash cover entir bodi rash red swollen wors certain area arm leg also lost appetit', 'experienc chill shiver strong pain back also behind eye also notic small red spot back neck', 'experienc sever joint pain make day difficult feel like vomit time mild headach', 'vomit frequent lost appetit result rash skin eye pain cannot sleep properli', 'high fever along sever headach fever accompani extrem bodi pain chill worri health know', 'feel extrem tire fatigu energi anyth fatigu sever struggl get bed notic small red spot arm leg', 'experienc sever headach accompani pain behind eye feel tire fatigu cannot work day worri health', 'feel nauseou constant urg vomit accompani mild fever headach', 'develop rash bodi itchi lost appetit feel tire day feel someth wrong bodi', 'experienc muscl pain headach muscl pain feel like constant ach wors tri use affect muscl small red spot develop face neck arm', 'back hurt rash arm armpit back eyebal hurt lot also mild fever make us concern health', 'experienc high fever chill everi night realli concern moreov feel like eat anyth back arm leg pain lot strang pain behe eye physic activ', 'result regular vomit lost appetit muscl joint back constantli hurt start fever realli worri not sure', 'experienc sever fever accompani pain behind eye headach feel tire exhasut cannot work', 'whole bodi pain lot feel like eat anyth mild fever get chill everi night also red spot develop back neck', 'joint back pain everyday feel like vomit made weak bodi pain not abl focu work feel like anyth', 'bodi pain feel extrem lost appetit develop rash arm face back eye pain lot', 'develop rash bodi also experienc high fever along chill headach joint back hurt strang pain back eye', 'feel nauseou constant urg vomit get high fever chill everi night feel terribl also feel lost appetit', 'rash skin itch touch feel good joint pain whole day night mild fever get chill sleep', 'rais lump rash look red inflam discolour area skin differ colour rest skin itch skin', 'bodi sever itch follow red bumpi rash skin also darken spot tini nodular breakout happen sever day becom wors', 'rash skin look like dischrom patch also lot nodular erupt realli bad itch previou week becom wors', 'rash go away bothersom itch skin addit seen color differ area bump resembl knot lump skin', 'rash bodi stop scratch skin itchi skin also spot hue alter lump knot like pimpl', 'recent skin quit itchi rash bodi skin also spot hue alter lump knot like pimpl', 'skin itch lot develop rash addit area skin differ hue rest addit firm pimpl breakout skin', 'bodi itch like crazi red area addit patch differ tone natur skin skin lump pimpl develop', 'skin act recent becom extrem itchi rash prone addit certain spot deviat natur skin tone term hue skin lump bump', 'arm leg lot red pimpl itchi skin skin also odd look lesion occasion bump somewhat uncomfort', 'itchi skin lot red bump arm leg weird look spot skin sometim bump feel kind hard', 'doctor realli itchi rash skin weird spot differ color also bump skin look like littl knot', 'doctor skin cover uncomfort rash along odd patch differ hue skin also pimpl resembl littl knot', 'lot itchi spot skin sometim turn red bumpi also weird patch differ color rest skin sometim get weird bump look like littl ball', 'skin frequent develop itchi bump occasion turn red rough asid skin occasion develop strang pimpl resembl small ball odd spot differ hue rest skin', 'doctor red rash keep pop skin continu itch addit observ odd color differ spot skin well littl nodul skin appear expand', 'experienc realli intens itch bodi along red bump skin also weird patch differ color rest skin sometim get nodul look like small bump', 'bodi scratch much skin becom red develop pimpl addit occasion get nodul resembl littl pimpl well strang patch differ hue rest skin', 'experienc lot itch accompani rash appear grow wors time also certain area skin differ colour rest spot sever lump resembl littl node', 'lot problem itch accompani rash seem get wors time also patch skin differ color rest notic bump look like littl node', 'doctor skin cover uncomfort rash odd patch skin differ colour pimpl skin resembl littl knot', 'itch lot accompani rash look get wors time also patch skin differ colour rest skin well lump resembl littl node', 'skin act late becom exceedingli itchi prone rash furthermor sever patch differ normal skin tone term colour lump bump skin', 'rash appear develop throughout skin accompani recent bout intens itch discomfort skin also dischrom spot littl lump seem appear everywher', 'skin alway itch occasion becom quit rough red addit occasion get littl pimpl resembl tini ball certain spot differ colour rest skin sever irrit itch', 'lot itch skin sometim get realli red bumpi also patch differ color rest skin sometim get littl bump look like littl ball realli annoy itchi', 'pretti irrit itch bodi skin also red bumpi area also pimpl resembl small ball spot differ colour rest skin', 'pretti uncomfort itch bodi well red bumpi area skin also certain patch skin differ hue rest pimpl resembl littl ball', 'realli annoy itch bodi red bumpi spot skin also area differ color rest skin bump look like littl ball', 'pretti uncomfort itch bodi well red bumpi area skin also certain patch epidermi distinct shade rest pimpl resembl littl ball', 'realli itchi late rashi spot skin also area look differ shade rest skin bump kind hard', 'quit itchi recent rashi patch skin also certain region darker colour rest skin got firm lump', 'rather itchi recent rashi blotch skin also certain region dark color rest skin got pain lump', 'recent scratch lot skin cover rashi place addit pimpl rather firm certain spot bodi differ shade brown rest skin', 'skin realli itchi rashi spot also patch look differ color rest skin bump kind hard', 'skin realli scratchi rash bodi bump quit firm well area darker shade rest skin extrem unpleas', 'rashi area skin realli irrit addit bump fairli firm patch differ colour rest skin', 'recent scratch lot skin cover rashi place addit spot skin appear usual shade experienc lump quit pain', 'realli itchi late rashi spot skin also area look like normal color skin bump kind hard', 'quit itchi recent rashi place bodi also region appear typic hue skin experienc firm lump', 'itch rashi patch skin recent also region appear regular tone skin experienc pain bump', 'recent itch lot skin cover rashi patch furthermor region skin appear usual tone experienc lump except pain', 'constant itch red bumpi spot skin also patch differ color rest skin bump kind like littl lump', 'red bumpi area skin scratch nonstop addit bump resembl littl lump spot differ shade skin rest bodi', 'lot itch skin occasion turn rash also odd patch skin differ hue rest occasion get littl pimpl resembl nodul', 'tendenc itch skin frequent turn rash also strang patch skin differ tone rest skin regularli get littl lump mimic nodul', 'experienc lot itch skin sometim turn rash also strang patch skin differ color rest sometim get littl bump look like nodul', 'bodi itch terribl red spot everywher patch also differ tone natur complexion lump pimpl appear skin', 'skin realli itchi late occasion erupt rash addit odd area skin differ color rest occasion develop littl bump look like nodul', 'red blotch bodi itch horribl patch also differ complexion natur skin lump bump develop skin', 'stop sneez nose realli runni also realli cold tire time cough lot fever realli high like way normal', 'nose extrem runni seem stop sneez addit constantli feel cold exhaust cough lot fever also realli high far normal', 'sneez nonstop seem shake chill feel realli weak tire cough go away fever realli high', 'sneez incessantli get chill go away feel weak exhaust cough stop temperatur realli high', 'constantli sneez bodi shake cold tire bare move head kill fever roof', 'constantli sneez cold make bodi trembl exhaust hardli move head hurt fever quit high', 'quit exhaust ill sneez nonstop quit cold head throb lack energi addit high fever feel like fire', 'feel realli tire sick sneez lot seem get warm tire head kill fever realli high like boil', 'quit exhaust ill throat quit pain fairli nasti cough got lot chill pretti high temperatur feel extrem run weak', 'quit exhaust ill sneez lot troubl warm exhaust head hurt feel like boil high temperatur', 'stop sneez feel realli tire crummi throat realli sore lot gunki stuff nose throat neck feel swollen puffi', 'stop sneez exhaust sick throat realli uncomfort lot junk nose throat neck also swollen puffi', 'keep sneez miser exhaust lot gunki thing nose throat throat realli hurt neck also feel puffi swollen', 'feel realli exhaust sick stomach realli bad cough throat hurt lot experienc substanti sinu pressur congest nose realli unpleas worn', 'sneez lot feel realli tire sick also lot gross stuff come nose throat feel realli scratchi neck feel swollen', 'wheez lot gener feel sick exhaust throat feel realli scratchi lot gross stuff flow nose neck also feel bloat', 'sinus feel incred congest eye continu red constantli feel drain exhaust addit lot uncomfort phlegm throat lymph node feel bloat breath challeng', 'eye realli red sinus feel congest energi throat realli itchi also notic lymph node swollen cough lot phlegm', 'sinus feel stuffi eye quit red simpli lack energi throat realli scratchi along swell lymph node also cough lot phlegm', 'eye alway red itchi nose feel stuffi congest feel kind sick tire time keep cough gunk throat feel sore scratchi notic bump neck bigger usual', 'nose alway feel stuffi congest eye alway red itch feel unwel fatigu keep hack gunk scratchi irrit throat seen neck bump larger usual', 'keep sneez eye quit drip incred difficult breath feel like someth trap throat often feel exhaust late lot phlegm moreov lymph node enlarg', 'eye red wateri time also pressur sinus go away alway feel tire lot troubl breath also lot gunk throat lymph node swollen', 'eye constantli red runni persist tight sinus also bother lot difficulti breath constantli feel fatigu addit lot throat mucu inflam lymph node', 'nose feel quit clog eye constantli red runni addit chest hurt lot breath problem addit muscl feel quit pain smell anyth', 'eye usual red runni nose alway stuffi also difficulti breath chest hurt addit smell anyth muscl quit pain', 'eye usual red inflam impress someth clog sinus cough lot gunk chest hurt smell anyth muscl ach', 'eye alway red swollen feel like someth block sinus cough lot goo chest feel realli heavi smell anyth muscl realli sore', 'cough lot feel chilli shiveri nose quit clog experienc facial pressur also lot phlegm cough pain chest smell anyth muscl ach', 'day nasti cough cold sinus clog facial pressur also creat phlegm cough pain chest smell anyth muscl ach', 'nasti cough cold day sinus congest facial pressur also cough mucu pain chest smell anyth muscl ach', 'cough cold aw day sinus congest face strain addit cough phlegm hurt chest sens smell muscl hurt lot', 'cough nonstop shiver terribl stuffi nose face strain addit throat cough nasti gunk chest hurt muscl hurt lot smell anyth', 'stop cough feel realli cold sinus block lot mucu chest hurt smell anyth muscl also realli sore', 'cough nonstop realli chilli mucu product excess sinus fulli clog smell anyth chest hurt muscl quit pain well', 'stop cough freez sinus complet block inund mucou chest hurt unabl smell anyth muscl also realli achi', 'cough lot find difficult breath throat hurt feel like lot phlegm trap chest nose run lot feel realli congest', 'quit exhaust ill throat quit pain fairli nasti cough got lot chill pretti high temperatur feel extrem run weak', 'experienc sever weari sickli sensat throat realli pain fairli sever cough nose quit stuffi signific sinu pressur realli miser extrem exhaust', 'feel realli sick lot fatigu realli bad cough throat realli sore lot sinu pressur nose realli congest feel realli run miser', 'quit exhaust ill throat quit pain fairli nasti cough got lot chill pretti high temperatur simpli put feel realli run feebl', 'realli weari ill suffer sever cough sore throat got lot chill pretti high temperatur simpli feel tire run', 'quit sneez nose run also constantli chilli exhaust cough lot fever also realli high well usual', 'feel aw lot congest runni nose cough lot lot chest pain fever realli high experienc sever muscular discomfort', 'neck swollen exhaust throat scratchi eye burn red nose realli clog experienc facial pressur chest hurt unabl smell anyth', 'lack energi feel like neck bloat eye red throat feel scratchi sever congest nostril face pressur smell anyth chest hurt', 'feel quit weak lymph node enlarg eye burn throat hurt sinus strain nose stuffi smell anyth chest hurt', 'terribl cough cold day face tire sinus block addit chest hurt phlegm cough smell muscl terribl pain', 'red wateri eye time sinus also bother constant tight breath quit tough feel worn time lymph node irrit also lot throat mucou', 'alway get hot puffi eye feel someth obstruct sinus chest feel quit heavi cough lot gunk sens smell muscl hurt lot', 'feel realli cold tire late cough lot chest pain heart beat realli fast cough phlegm kind rusti color', 'cough lot recent chest pain feel incred chilli exhaust addit heart thump rapidli phlegm cough reddish hue', 'feel realli drain cold stop cough hurt chest heart feel like race mucu cough gross brownish color', 'exhaust chilli stop cough pain chest make heart race cough mucou disgust brownish hue', 'chill feel exhaust seem shake cough chest hurt cough heart feel like go million mile hour phlegm cough dirti rust color', 'experienc chill feel worn seem get rid cough cough chest ach heart feel like beat million mile per hour cough nasti rust color phlegm', 'feel realli weak cold late cough go away hurt chest cough heart pound mucu bring rusti brown color', 'chill feel realli worn cough go away chest hurt cough heart race mucu bring gross brownish color', 'experienc chill feel realli exhaust cough go away cough chest ach heart pound disgust brownish hue mucou come', 'realli high fever troubl breath sweat lot feel realli cold tire heart beat realli fast brownish sputum', 'problem breath high fever perspir lot experienc extrem fatigu chilli heart race cough brownish mucu', 'temperatur high hard time breath sweat profus shake chill realli tire heart beat realli fast also brownish phlegm come', 'troubl breath fever realli high drench sweat shiver chill heart thump rapidli quit exhaust addit brownish phlegm', 'fever realli high troubl catch breath sweat lot feel cold tire heart beat realli fast also brownish phlegm come', 'realli high fever problem breath heart race quit quickli perspir lot feel chilli exhaust also cough brownish phlegm', 'feel realli sick high fever short breath sweat chill extrem fatigu heart rate rapid cough lot brownish sputum', 'high temperatur short breath sweat chill intens exhaust feel quit poorli cough lot brownish phlegm puls rate race', 'realli hard time catch breath sweat lot feel realli sick lot mucu throat chest hurt heart race mucu cough dark look like rust', 'sweat profus find difficult catch breath feel quit ill throat mucou heart pound chest ach cough thick mucou resembl rust', 'lot troubl breath realli uneasi feel unwel perspir lot chest hurt lot mucu throat heart race hue mucu cough', 'seem get enough air sweat lot feel well lot phlegm throat chest hurt heart race mucu cough reddish color', 'sweat profus seem get enough air throat fill lot mucu feel good heart pound chest ach cough reddish color mucou', 'seem catch breath sweat lot feel realli sick lot phlegm throat chest hurt heart race mucu cough yellowish', 'drip perspir seem catch breath throat fill lot phlegm feel aw heart pound chest ach cough brownish mucou', 'hard time breath feel realli uncomfort sweat lot lot phlegm throat chest hurt heart beat fast mucu cough brownish', 'troubl breath quit uneasi throat fill lot phlegm perspir lot heart race chest ach cough reddish mucou', 'seem catch breath sweat lot feel realli sick lot phlegm throat chest hurt heart race mucu cough brownish stringi', 'drip perspir seem catch breath throat fill lot phlegm feel aw heart pound chest ach cough stringi brownish mucou', 'drench sweat struggl breath feel well lot mucou throat chest ach heart race cough mucu crimson colour', 'feel lousi high temperatur short breath sweat chill extrem weari heart beat cough lot brownish phlegm', 'realli high fever problem breath heart race quit quickli perspir lot feel chilli exhaust also cough brownish phlegm', 'fever realli high difficulti breath drench sweat shiver chill quit fatigu heart race also expect brownish phlegm', 'get chill feel tire seem shake cough chest ach heart feel like race million mile per hour cough cough foul rusti phlegm', 'hard time breath feel realli uncomfort sweat lot lot phlegm throat chest hurt heart beat fast mucu cough brownish', 'troubl breath realli uncomfort sweat profus lot mucu throat chest ach heart race cough dark mucou', 'got high fever seem catch breath sweat profus gener feel ill weak also quit thick black phlegm chest ach heart race rapidli', 'late experienc chill fatigu cough high fever difficulti breath sweat lot feel realli sick weak also phlegm realli thick dark', 'recent suffer chill lethargi cough high temperatur difficulti breath sweat profus gener feel ill weak also quit thick black phlegm', 'late experienc chill fatigu cough high fever difficulti breath sweat lot feel realli sick weak also phlegm realli thick dark', 'recent suffer chill lethargi cough high temperatur difficulti breath sweat profus gener feel ill weak also quit thick red phlegm', 'chill lethargi cough high temperatur difficulti breath late sweat profus gener feel ill weak also quit thick black phlegm', 'lot respiratori issu late along chill exhaust cough high temperatur sweat profus gener feel ill weak chest ach heart race rapidli', 'suffer chill tired cough recent sweat tremend feel overal unwel weak also thick black phlegm chest ach heart race', 'run temperatur seem catch breath sweat tremend feel overal unwel weak also thick black phlegm heart beat frantic chest hurt', 'drench sweat seem catch breath throat clog mucu miser heart race chest ach cough brownish stringi mucu', 'satur sweat struggl breath throat block mucou uncomfort heart race chest ach cough darkish stringi mucou', 'lot problem breath not feel good sweat lot lot mucou throat chest hurt breath labour phlegm cough odd tint', 'lot difficulti breath feel well perspir lot chest hurt lot mucu throat troubl breath phlegm cough strang hue', 'cough lot feel incred chilli exhaust pretti high fever difficult breath perspir lot gener feel weak ill quit thick black phlegm', 'recent chill exhaust cough high temperatur breath issu perspir lot gener feel weak ill quit thick black phlegm heart race quit quickli', 'constip discomfort bowel motion anu pain recent bother anu quit inflam stool extrem bloodi', 'late experienc constip pain bowel movement pain anu stool also realli bloodi anu realli irrit', 'recent lot difficulti use restroom bowel movement extrem uncomfort difficult anu quit inflam stool extrem bloodi', 'lot troubl go bathroom late realli pain blood stool also pain irrit around anu', 'recent lot difficulti use restroom hurt lot notic blood stool around anu also experienc discomfort itch', 'late realli constip realli pain go bathroom also notic blood stool anu realli irrit', 'suffer sever constip late whenev go restroom hurt lot asid anu realli itchi observ blood stool', 'lot troubl go bathroom late realli pain also notic stool bloodi anu realli irrit', 'recent lot discomfort difficulti use restroom addit notic anu quit sore stool bloodi', 'terribl constip late go bathroom hurt lot asid anu realli itchi observ blood stool', 'quit constip late go restroom excruciatingli uncomfort also observ blood stool anu aggrav', 'lot troubl go bathroom late realli pain experienc pain anu stool also bloodi anu realli irrit', 'lot problem use restroom recent excruciatingli uncomfort feel agoni anu stool bloodi well anu realli inflam', 'troubl go restroom recent tri go realli uncomfort anu hurt lot also blood stool anu realli uncomfort', 'realli hard time go bathroom late realli pain tri go anu hurt lot also blood stool anu realli itchi', 'experienc problem use restroom recent quit difficult go hurt also experienc buttock sore bloodi stool anu also quit itch sensit', 'recent problem use restroom go incred difficult hurt addit experienc butt sore stool bloodi anu also quit itch aggrav', 'constip realli hard go bathroom go hurt stool bloodi also pain butt anu realli itchi irrit', 'sinc constip use restroom quit challeng go ach blood stool anu quit itchi irrit also experienc discomfort butt', 'constip realli hard go bathroom go hurt stool bloodi also pain butt anu realli itchi irrit', 'sinc constip use restroom quit challeng go ach blood stool anu quit itchi irrit also experienc discomfort butt', 'constip realli hard go bathroom go hurt stool bloodi also pain butt anu realli itchi irrit', 'constip made quit difficult use restroom stool bloodi go hurt addit anu quit itchi inflam experienc butt sore', 'incred difficult use restroom hurt lot stool bloodi butt hurt anu also quit itch aggrav', 'lot troubl go bathroom realli pain stool bloodi pain butt anu realli itchi irrit', 'troubl go bathroom realli hard go hurt anu realli sore bleed go realli pain realli uncomfort', 'find challeng use restroom go quit difficult ach go anu bleed realli uncomfort lot discomfort hurt extrem bad', 'difficulti use restroom difficult go ach anu quit pain bleed whenev go excruciatingli pain quit uneasi', 'late experienc constip pain bowel movement anu realli sore bleed go realli pain realli uncomfort', 'recent suffer constip digest discomfort anu quit pain bleed whenev go excruciatingli pain quit uneasi', 'constip sore bowel motion bother late go anu bleed realli uncomfort lot discomfort hurt extrem bad', 'lot troubl bowel movement late hard go hurt anu realli sore bleed go realli pain realli uncomfort', 'bowel motion realli difficult recent go difficult ach go anu bleed realli uncomfort lot discomfort hurt extrem bad', 'experienc lot bowel movement issu recent difficult go hurt anu quit pain bleed whenev go excruciatingli pain quit uneasi', 'lot troubl bowel movement late hard go hurt anu realli sore bleed go realli pain realli uncomfort', 'experienc lot problem bowel motion recent difficult go hurt anu quit pain bleed whenev go excruciatingli pain quit uneasi', 'bowel motion give lot problem right go difficult go hurt go anu bleed realli uncomfort lot discomfort hurt extrem bad', 'late experienc constip pain bowel movement anu realli sore bleed go realli pain realli uncomfort', 'constip bowel motion hurt recent go anu bleed realli uncomfort lot discomfort hurt extrem bad', 'recent suffer constip digest discomfort anu quit pain bleed whenev go excruciatingli pain quit uneasi', 'experienc lot bowel movement issu recent difficult go hurt anu quit pain bleed whenev go excruciatingli pain quit uneasi', 'lot troubl bowel movement late hard go hurt anu realli sore bleed go realli pain realli uncomfort', 'bowel motion realli difficult recent go difficult ach go anu bleed realli uncomfort lot discomfort hurt extrem bad', 'experienc lot problem bowel motion recent difficult go hurt anu quit pain bleed whenev go excruciatingli pain quit uneasi', 'experienc lot bowel movement issu recent difficult go hurt anu quit pain bleed whenev go realli pain realli uncomfort', 'get lot bowel issu recent difficult go hurt anu quit pain bleed whenev go excruciatingli pain quit uneasi', 'realli hard time go bathroom late realli pain abl go everi day also lot pain anu around area stool realli bloodi anu feel realli irrit', 'find incred difficult recent use restroom go sporad hurt much anu surround region also quit pain anu feel realli aggrav stool extrem bloodi', 'lot troubl constip pain tri go bathroom hurt lot anu area around stool bloodi anu realli irrit', 'constip bowel movement discomfort common late region surround anu ach lot anu realli itchi stool bloodi', 'muscl feel realli weak neck extrem tight experienc lot stiff walk joint swollen walk also realli uncomfort', 'feel realli weak muscl neck realli stiff joint swell lot stiff move around also realli pain walk', 'muscl quit weak neck realli stiff joint swollen experienc lot stiff move around walk also excruciatingli uncomfort', 'feel realli weak muscl neck realli stiff joint swell hard move around walk realli pain', 'muscl realli weak neck extrem stiff joint swollen make difficult move walk excruciatingli uncomfort', 'experienc sever muscular weak neck realli stiff difficult move sinc joint swollen realli uncomfort walk', 'muscl feel realli weak neck extrem tight joint swollen make difficult move hurt lot walk', 'neck tens feel like muscl incred weak troubl move sinc joint enlarg walk quit pain', 'neck realli stiff terribl muscl weak due swell joint challeng move walk quit unpleas', 'feel realli weak muscl late neck realli stiff joint swell hard move around without feel stiff walk realli pain', 'recent muscl felt quit weak neck realli tight swollen joint find difficult move without becom stiff also realli uncomfort walk', 'experienc muscular weak stiff neck recent joint swollen make difficult walk without becom stiff walk also excruciatingli uncomfort', 'recent suffer neck muscl weak stiff joint enlarg difficult walk without feel stiff walk also excruciatingli uncomfort', 'late neck tight muscl weaken swell joint make difficult move without get stiff also agonisingli pain walk', 'feel realli weak muscl neck realli stiff joint swell hard move around without feel stiff walk realli pain', 'muscl feel realli weak neck extrem tight swollen joint find difficult move without becom stiff also realli uncomfort walk', 'muscl quit weak neck realli stiff joint swollen make difficult walk without becom stiff walk also excruciatingli uncomfort', 'muscl realli weak neck extrem stiff joint swollen make difficult walk without feel stiff walk also realli uncomfort', 'muscl quit weak neck realli stiff joint swollen make difficult move without becom stiff walk quit uncomfort well', 'neck realli tight muscl rather weak swell joint make hard move without get stiff addit walk quit unpleas', 'feel realli weak muscl neck realli stiff joint swell hard move around without feel stiff walk realli pain', 'muscl feel realli weak neck extrem tight swollen joint find difficult move without becom stiff also realli uncomfort walk', 'neck extrem tight muscl feel extrem weak difficult move around without becom stiff due swollen joint walk also extrem uncomfort', 'neck extrem stiff muscl extrem weak result swell joint find difficult move around without feel stiff addit walk extrem uneasi', 'experienc stiff weak neck muscl recent sinc joint grown hard walk without get stiff addit walk extrem uncomfort', 'neck extrem tight muscl feel extrem weak joint swollen walk around lot stiff addit walk extrem uneasi', 'experienc stiff weak neck muscl recent sinc joint grown hard walk without get stiff addit walk extrem uncomfort', 'feel realli weak muscl neck realli stiff joint swell hard move around without feel stiff walk realli pain', 'muscl quit weak neck realli stiff joint swollen make difficult walk without feel stiff walk also realli uncomfort', 'experienc sever muscular weak neck realli stiff swollen joint find difficult move without becom stiff also realli uncomfort walk', 'feel realli weak muscl late neck realli stiff joint swollen hard move around also pain walk', 'feel truli frail muscl recent neck truli solid swollen joint make difficult move around walk also difficult', 'recent muscl felt quit weak neck realli tight swollen joint make difficult move walk also pain', 'experienc muscular weak stiff neck recent joint enlarg make difficult move walk also difficult', 'feel truli frail muscl recent neck truli solid difficult move around joint swell walk also extrem pain', 'muscl feel feebl recent neck rock solid joint becom swollen make difficult move walk quit uncomfort well', 'muscl feel rather weak late neck realli strong joint swollen make challeng move also excruciatingli difficult walk', 'neck extrem tight muscl felt quit weak recent difficult move around without becom stiff due swollen joint walk also extrem uncomfort', 'experienc stiff weak neck muscl recent sinc joint grownup heavi behalf pine tree state run wherea not get stiff addit walk terribl uncomfort', 'experienc muscular weak stiff neck recent joint swollen creat troublesom behalf run regard not chang stiff walk addit agonizingli uncomfort', 'muscl quit weak neck stiff joint swollen creat troublesom behalf steer concern not feel stiff walk conjointli uncomfort', 'muscl area unit quit weak neck terribl stiff joint swollen make hard behalf main steer regard wherea not feel stiff walk put togeth terribl uncomfort', 'experienc stiff weak neck muscl recent sinc joint grownup oner behalf run not obtain stiff addit walk extraordinarili uncomfort', 'neck tight muscl felt quit weak recent tough behalf maneuv around not chang stiff thank swollen joint walk addit uncomfort', 'recent tri walk stiff stiff neck swollen joint muscular weak walk also realli uncomfort', 'late experienc muscl weak stiff neck swell joint stiff attempt move around also pain steer', 'recent muscl neck becom tight weak difficult run sinc joint older without get tight act walk also quit unpleas', 'experienc stiff weak neck muscl recent sinc joint grownup heavi behalf american state run wherea not get stiff addit walk uncomfort', 'recent muscl neck becom tight weak sinc joint matur difficult american govern run without becom stiff walk also quit unpleas', 'late stiff weak neck muscl sinc joint matur difficult american state oper without becom stiff furthermor walk quit pain', 'realli bad rash skin late full pu fill pimpl blackhead skin also scur lot', 'develop sever rash skin clog pu fill pimpl blackhead skin also quit sensit', 'skin break terribl rash late blackhead pu fill pimpl abound addit skin scur lot', 'recent experienc sever skin rash blackhead pimpl pack pu everywher addit skin scur lot', 'unhealthi rash skin latterli fill pu fill pimpl blackhead skin addit scur heap', 'skin acquir nasti rash full pu fill pimpl blackhead skin realli sensit well', 'nasti rash appear skin blackhead pimpl pack pu everywher addit skin extrem sensit', 'recent experienc sever skin rash blackhead pimpl fill pu clog addit skin quit irrit', 'skin recent sever rashi blackhead pu fill pimpl block skin quit delic well', 'late experienc skin rash lot pu fill pimpl blackhead skin also scur lot', 'skin rash sever pu fill pimpl blackhead bother late addit skin scur lot', 'skin develop revolt rash pu fill pimpl blackhead everywher skin also realli sensit', 'skin develop horribl rash blackhead pu fill pimpl everywher furthermor skin exceedingli sensit', 'nasti rash appear skin blackhead pimpl pack pu everywher addit skin extrem sensit', 'skin simpli nonherit nasti rash pack pu fill pimpl blackhead skin sensit moreov', 'skin develop terribl rash not inherit lot blackhead pu fill pimpl furthermor skin exceedingli sensit', 'recent experienc lot acn breakout pimpl contain pu also struggl blackhead', 'woke morn found realli nasti rash skin ton blackhead pimpl fill pu skin also realli scurri', 'notic realli nasti rash skin late cover blackhead pimpl pack pu skin also realli scurri', 'develop realli nasti rash skin ton blackhead pimpl fill pu skin also realli scurri', 'deal realli nasti rash skin late cover blackhead pimpl pack pu skin also realli scurri', 'woke morn find realli nasti rash skin ton blackhead pimpl fill pu skin also realli scurri', 'struggl realli nasti rash skin late cover blackhead pimpl pack pu skin also realli scurri', 'develop realli nasti rash skin ton blackhead pimpl fill pu skin also realli scurri', 'deal realli nasti rash skin late cover blackhead pimpl pack pu skin also realli scurri', 'recent develop terribl rash skin riddl blackhead pu fill pimpl skin also scurri everywher', 'recent horribl rash skin sever blackhead pu fill pimpl skin also move around lot', 'morn woke discov extrem bad rash bodi sever pu fill pimpl blackhead around skin also move around lot', 'awok morn see horribl rash skin sever blackhead pimpl load pu skin also scurri', 'develop skin rash sever pu fill pimpl blackhead skin also quit sensit', 'skin rash sever pu fill pimpl blackhead bother late addit skin scur lot', 'woke morn find terribl rash bodi blackhead pu fill pimpl place addit skin chang lot', 'awok morn realis sever rash bodi mani pu fill pimpl blackhead place skin also scur lot', 'recent develop terribl rash skin riddl blackhead pu fill pimpl skin also scurri', 'awok morn see horribl rash skin sever blackhead pimpl load pu skin also scurri', 'morn woke discov extrem bad rash skin sever pu fill pimpl blackhead around skin also move around lot', 'recent battl pretti itchi rash skin pu fill pimpl blackhead skin also scur lot', 'morn realiz major rash bodi lot pimpl fill pu blackhead everywher skin scurri lot', 'woke today find major rash bodi lot pimpl fill pu blackhead everywher skin scurri lot', 'woke morn find major rash bodi cover pu fill pimpl blackhead skin scurri lot', 'morn saw larg rash bodi lot pu fill pimpl blackhead face skin scurri lot', 'discov signific rash bodi morn blackhead pu fill pimpl prolifer skin scurri lot', 'yesterday notic enorm rash skin lot pu fill pimpl blackhead face skin scurri lot', 'discov huge rash skin yesterday face cover blackhead pu fill pimpl skin crawl lot', 'skin horribl rash absolut nonherit blackhead pu fill pimpl abound addit skin quit sensit', 'skin mere develop uninherit rash lot pu fill pimpl blackhead furthermor skin quit sensit', 'awok morn saw sever rash across skin mani pu fill pimpl blackhead place skin also shift lot', 'woke morn saw terribl rash skin blackhead pu fill pimpl place addit skin shift lot', 'recent struggl realli irrit skin rash blackhead pu fill pimpl addit skin scur lot', 'recent deal itch rash skin cover pu fill pimpl blackhead skin also quit sensit', 'feel extrem tire weak also cough lot difficulti breath fever high produc lot mucu cough', 'got cough go away exhaust cough thick mucou fever also pretti high', 'persist cough feel quit fatigu fever roof troubl breath cough also cough lot mucou', 'issu exhaust dri cough breath high fever cough lot thick mucoid phlegm', 'feel realli fatigu weak bad cough fever realli high breath becom shallow cough lot saliva come well', 'lot sleepi cough refus go away breath difficulti cough lot thick mucoid saliva high fever', 'doctor high fever sinc past day saliva also becam thick dri cough weak also seen', 'cough continu day feel realli weak tire fever high breath becom strain cough also gener lot mucu', 'mom dad feel realli tire weak late cough go away hard catch breath fever realli high cough produc lot mucu', 'hey mom hey dad feel realli exhaust late persist cough breath becom shallow fever high also cough lot thick mucoid sputum', 'recent felt quit weak exhaust also cough simpli go away fever realli high challeng catch breath make lot mucou cough', 'felt terribl weak drain also cough go away fever except high challeng tri catch breath creat lot mucou cough', 'feel realli tire weak late cough go away breath becom shallow fever realli high cough produc lot thick mucoid sputum', 'feel extrem exhaust persist cough hard catch breath fever high also produc lot mucu cough', 'struggl fatigu constant cough make difficult breath fever high cough lot thick mucoid sputum', 'nag cough go away breath becom labor fever also high feel weak tire produc lot mucu cough', 'experienc high fever persist cough short breath also produc lot thick mucoid sputum feel tire weak', 'breath issu persist cough exhaust cough lot thick mucoid sputum high fever feel drain tire deal', 'cough linger day difficulti breath fever sky high feel weak tire also produc lot mucu cough overwhelm deal symptom get frustrat', 'persist cough day also breath problem weak exhaust fever roof difficult manag symptom also cough lot mucu becom angri everyth', 'struggl difficulti breath constant cough fatigu fever extrem high cough lot thick mucoid sputum hard deal feel drain worn', 'breath issu persist cough exhaust cough lot thick mucoid sputum high fever feel exhaust tire cope', 'feel realli ill late persist cough difficulti breath fever chart also feel extrem exhaust produc lot mucu cough overwhelm deal symptom', 'recent feel terribl fever roof persist cough breath problem cough lot phlegm also feel quit weari deal symptom quit difficult', 'fever cough go away short breath addit cough lot thick mucoid saliva feel quit worn weak', 'hey dri cough breath difficulti well high fever lot mucou produc feel incred weak tire', 'recent number concern symptom includ dri cough impair breath high fever lot mucu also feel weak tire', 'current deal number health issu includ dri cough difficulti breath high fever increas mucu product also feel weak tire', 'week suffer contini health issu like dri cough problem breath weak throughout day', 'doctor coupl day not abl breth propelri lie bed due high fever lot mucu get pleas suggest medicin', 'experienc short breath persist cough high fever also produc lot thick mucoid sputum feel drain exhaust hard deal', 'weak exhaust fever roof difficult manag symptom also cough lot mucu becom angri everyth', 'must confess experienc short breath persist cough high fever also produc lot thick mucoid sputum feel quit drain exhaust rather tough deal feel quit sick moment', 'must admit high fever persist cough short breath addit cough lot thick mucoid saliva feel realli deplet worn', 'tough time constant cough difficulti breath fatigu fever high cough lot thick mucoid sputum rather drain exhaust feel quit sick moment', 'struggl persist cough breath issu exhaust cough lot thick mucoid sputum high fever realli tire exhaust right feel rather ill', 'deal bad cough breath issu drowsi cough lot thick mucoid sputum high fever realli exhaust exhaust right feel rather ill', 'persist cough breath problem exhaust make thing difficult produc copiou amount thick mucoid sputum also high fever current feel fairli ill everyth tire exhaust', 'persist cough respiratori issu exhaust struggl high fever produc lot thick mucoid sputum cough current feel rather sick result drain tiresom everyth', 'fever roof weak tire cough lot mucou manag symptom realli hard everyth make upset', 'doctor due high fever abl breath via nose mouth day feelinf tire pleas recommend medic', 'hey got dri cough troubl breath high fever produc lot mucu feel quit weak exhaust', 'cough nonstop day also respiratori issu fever roof weak worn symptom realli challeng control', 'addit sleepi troubl breath due persist cough cough lot thick mucoid sputum high fever', 'struggl breath cough constantli feel worn high fever cough lot thick mucoid saliva simpli feel worn exhaust tri deal everyth', 'experienc difficulti breath chronic cough weari produc lot thick mucoid sputum also run high temperatur due cope simpli feel extrem worn exhaust', 'hello mom father recent felt incred worn cough go away fever realli high breath becom shallow addit cough lot mucou thick sputum', 'struggl fatigu constant cough make difficult breath fever high cough lot thick mucoid sputum', 'doctor due high fever abl breath via nose mouth day feel tire sometim mucu seen pleas recommend medic', 'ongo health problem week includ dri cough breath difficulti gener weak', 'experienc headach chest pain dizzi difficulti maintain balanc also feel like troubl concentr', 'along headach chest pain instabl balanc issu also feel dizzi also think problem focus', 'along head pain chest pain instabl balanc issu also feel unwel also think problem focus', 'addit head pain chest pain instabl balanc issu alreadi feel unwel also suppos issu focus', 'experienc balanc issu headach chest pain dizzi abil concentr focu also challeng', 'headach chest pain dizzi troubl balanc also hard focu concentr', 'encount troubl walk headach chest pain dizzi concentr skill focu also challeng', 'encount poor balanc headach chest pain dizzi abil pay attent focu also problemat', 'coordin experienc headach chest pain dizzi addit troubl concentr focus', 'symptom includ headach chest pain dizzi lack balanc troubl concentr', 'experienc symptom headach chest pain dizzi loss balanc difficulti focus', 'suffer symptom includ headach chest pain dizzi lose balanc troubl concentr', 'headach chest discomfort dizzi lack balanc difficulti concentr symptom', 'along headach chest pain also experienc faint balanc issu addit discov hard focu', 'experienc balanc issu headach chest pain dizzi also realis troubl focus', 'balanc headach chest pain dizzi also observ hard concentr', 'experienc balanc issu chest pain headach pain troubl focus well', 'experienc chest pain dizzi headach feel like continu pressur forehead', 'feel lighthead unsteadi feet also notic declin abil focu concentr', 'experienc dizzi shaki well loss attent span abil concentr', 'experienc dizzi anxious well loss attent concentr abil concentr', 'intens ach chest headach go away feel dizzi unsteadi', 'intens ach chest head pain refus go away feel dizzi unsteadi', 'along chest pain dizzi headach feel like narrow zone around head lot troubl', 'struggl headach feel like tight band around head along chest pain dizzi', 'experienc balanc issu addit feel disori dizzi headach also present nonstop', 'feel disori dizzi also troubl keep balanc headach constant presenc well', 'experienc balanc issu along feel dizzi lighthead addit seen drop concentr focu', 'addit feel dizzi lighthead problem keep equilibrium capac concentr focu also slip notic', 'experienc headach feel like sharp pain templ along chest pain dizzi', 'along chest pain dizzi headach seem like sharp pain forehead', 'feel fine day suddenli develop headach chest pain dizzi walk hard focu concentr sinc', 'take walk suddenli start experienc headach chest pain dizzi feel fine day sinc challeng concentr focu', 'woke morn headach chest pain day gone also feel dizzi unsteadi feet', 'headach chest pain morn day wore also start feel unsteadi unstabl feet', 'deal headach chest pain day today dizzi loss balanc becam much wors', 'day suffer headach chest pain today dizzi lack balanc got consider wors', 'work start feel headach chest pain dizzi hard concentr focu task sinc', 'first experienc headach chest pain lightheaded work sinc challeng focu concentr work', 'middl workout suddenli develop headach chest pain dizzi hard maintain balanc sinc', 'instantli experienc headach chest pain dizzi work sinc challeng keep balanc', 'feel fine day suddenli develop headach chest pain dizzi drive home work hard focu concentr road sinc', 'felt fine day drive home work suddenli start headach chest discomfort dizzi sinc challeng concentr focu drive', 'shop start feel headach chest pain dizzi hard focu concentr task sinc', 'first experienc headach chest pain lightheaded shop sinc difficult concentr work', 'woke morn feel fine day went start experienc headach chest pain dizzi hard focu concentr work sinc', 'felt good woke morn day wore began feel headachey sick stomach dizzi sinc challeng concentr focu work', 'middl meet suddenli develop headach chest pain dizzi hard focu concentr discuss sinc', 'suddenli experienc headach chest pain dizzi middl confer sinc challeng concentr focu topic', 'feel fine day suddenli develop headach chest pain dizzi run hard maintain balanc sinc', 'experienc acid indigest meal well frequent headach blur vision', 'get frequent headach hazi vision well acid reflux indigest meal', 'troubl vision see thing distort experienc visual disturb', 'suffer visual disrupt see thing distort eyesight problem', 'face visual disrupt see thing distort eyesight difficulti', 'feel excess hungri even eat stiff neck', 'face visual disrupt see thing distort eyesight difficulti', 'grumpi gloomi late also notic chang vision', 'feel depress irrit notic chang vision', 'irrit depress late also notic chang vision', 'along recurr headach blur vision suffer acid reflux troubl digest food', 'experienc acid reflux difficulti digest food along regular headach impair vision', 'feel hungri time sore neck well problem vision', 'addit stiff neck eye issu alway hungri', 'experienc acid indigest headach blur distort vision well excess hunger stiff neck depress irrit visual disturb', 'along excess appetit stiff neck depress impati visual disturb also indigest headach blur vision acid reflux', 'along excess appetit stiff neck depress impati visual disturb also suffer indigest headach blur vision stomach problem', 'suffer acid reflux indigest frequent headach impair vision well excess hunger sore neck depress irrit visual disturb', 'along increas hunger sore neck melancholi impati visual distort also experienc acid reflux indigest frequent headach blur eyesight', 'togeth increas hunger sore neck anxieti irrit visual distort also experienc acid reflux indigest frequent headach impair eyesight', 'experienc digest issu includ acid indigest well regular headach distort vision excess hunger stiff neck depress irrit visual disturb', 'addit recurr headach blur vision increas appetit stiff neck sad irrit visual disturb stomach problem includ indigest acid', 'add frequent headach blur vision increas appetit stiff neck anxieti irrit visual disturb stomach problem includ indigest acid', 'struggl acid reflux indigest headach well blur distort vision excess hunger sore neck depress irrit visual disturb', 'along headach indigest acid reflux excess appetit sore neck sad impati visual disturb also experienc blur distort vision', 'along headach indigest acid reflux excess appetit sore neck sad impati visual disturb also feel blur distort vision', 'experienc digest issu includ acid indigest well frequent headach impair vision excess hunger stiff neck depress irrit visual disturb', 'acid indigest among digest problem along regular headach blur vision increas hunger stiff neck sad impati visual disrupt', 'suffer acid reflux indigest regular headach well distort vision excess hunger sore neck depress irrit visual disturb', 'along distort eyesight excess appetit pain neck melancholi irrit regular headach also experienc acid reflux indigest regular headach', 'along distort eyesight excess appetit pain neck anxieti irrit regular headach also battl acid reflux indigest regular headach', 'experienc acid indigest frequent headach well blur distort vision excess hunger stiff neck depress irrit visual disturb', 'stomach acid indigest frequent headach hazi distort vision increas appetit stiff neck depress irrit visual distort bother', 'struggl digest issu includ acid reflux indigest well regular headach impair vision excess hunger sore neck depress irrit visual disturb', 'experienc frequent headach blur vision excess appetit sore neck sad irrit digest problem includ indigest acid reflux', 'endur frequent headach blur vision excess appetit sore neck anxieti irrit digest difficulti includ indigest acid reflux', 'experienc acid indigest headach well blur distort vision excess hunger stiff neck depress irrit visual disturb', 'along excess appetit stiff neck headach indigest acid reflux also experienc sad impati visual distort', 'along excess appetit stiff neck headach indigest acid reflux also experienc sad impati visual distort', 'suffer acid reflux indigest frequent headach well distort vision excess hunger sore neck depress irrit visual disturb', 'along impair eyesight increas appetit sore neck melancholi impati regular headach also experienc heartburn acid reflux indigest', 'along impair see excess eat sore neck melancholi impati constant headach also fight heartburn acid reflux indigest', 'experienc acid indigest headach blur distort vision well excess hunger stiff neck depress irrit visual disturb symptom affect daili life caus discomfort', 'along excess appetit stiff neck depress impati visual disturb also indigest headach blur vision acid reflux symptom bother interf usual activ', 'well excess appetit tens neck depress irrit visual disturb also indigest headach blur vision acid reflux symptom disturb interf usual activ', 'suffer acid reflux indigest regular headach well impair vision excess hunger sore neck depress irrit visual disturb symptom caus lot distress make difficult go daili activ', 'along eyesight problem increas appetit sore neck melancholi irrit regular headach also experienc acid reflux indigest frequent migrain regular activ made challeng symptom caus great deal distress', 'along eyesight problem increas appetit sore neck melancholi irrit regular headach also experienc acid reflux indigest frequent dizzi regular activ made tough symptom caus great deal distress', 'experienc acid indigest headach blur distort vision well excess hunger stiff neck depress irrit visual disturb symptom affect daili life caus discomfort', 'struggl acid reflux indigest headach well blur distort vision excess hunger sore neck depress irrit visual disturb symptom caus lot problem make difficult concentr function normal', 'experienc sever back pain persist cough weak limb neck also hurt feel dizzi balanc', 'along chronic cough limb weak deal excruci back discomfort experienc neck pain well vertigo instabl', 'suffer back pain hack cough weak arm leg addit neck hurt issu dizzi maintain balanc', 'back pain hack cough numb arm leg bother addit neck hurt troubl stay balanc without get lighthead', 'back pain cough cough numb arm leg plagu addit neck hurt troubl stay balanc without get woozi', 'pain typic cough cough numb arm leg plagu addit neck hurt troubl stay balanc without get woozi', 'struggl back pain cough go away weak extrem neck hurt problem dizzi lose balanc', 'back discomfort persist cough weak limb bother issu vertigo lose equilibrium neck hurt', 'back discomfort breath difficulti weak limb hurt issu vertigo lose balanc neck hurt', 'experienc intens back pain dri cough lack strength limb neck hurt feel dizzi unsteadi feet', 'struggl sever back pain dri cough limb weak feel lighthead wobbl feet neck hurt', 'battl back pain dri cough limb weak feel dizzi unstabl feet neck hurt', 'struggl back pain chronic cough limb weak feel disori weak feet neck hurt', 'suffer back pain product cough weak limb neck sore issu dizzi balanc', 'back pain product cough limb weak bother balanc dizzi concern neck hurt', 'backach difficulti breath limb weak bother balanc dizzi concern neck suffer', 'struggl back pain persist cough weak muscl neck hurt problem dizzi loss balanc', 'back pain linger cough muscl weak bother issu dizzi lose equilibrium neck hurt', 'back pain chronic cough muscl weak bother concern dizzi lose posit neck hurt', 'experienc sever back pain cough come goe weak limb neck also hurt feel dizzi balanc', 'intermitt cough fit signific back pain limb weak experienc neck pain well dizzi unsteadi sensat', 'period cough fit terribl back pain limb weak feel neck pain well dizzi unstabl sensat', 'deal back pain cough go away weak arm leg neck hurt problem dizzi maintain balanc', 'back pain persist cough numb arm leg bother troubl stay balanc experienc dizzi neck hurt', 'back pain dri cough stiff arm leg bother problem stay balanc experi dizzi neck hurt', 'experienc back pain persist cough numb arm leg troubl stay balanc manag vertigo neck hurt', 'arm leg weak suffer back pain persist cough addit experienc neck pain balanc issu also suffer dizzi', 'back pain persist cough arm leg weak bother experienc neck pain balanc issu dizzi', 'back pain persist cough numb arm leg bother troubl stay balanc experienc dizzi neck hurt', 'suffer back pain dri cough lack strength muscl neck sore feel dizzi unsteadi feet', 'back pain dri cough lack muscl strength bother neck hurt feel lighthead shaki', 'muscl lack strength experienc back pain dri cough experienc neck pain feel lighthead unstabl feet', 'muscl strong experienc back ach feel lighthead wobbl feet neck hurt', 'experienc back pain dri cough muscl weak experienc neck pain feel lighthead troubl stand still', 'struggl intens back pain chronic cough weak arm leg neck sore problem dizzi loss balanc', 'terribl back pain persist cough weak arm leg issu dizzi balanc loss neck hurt', 'suffer sever back pain persist cough numb arm leg experienc issu vertigo balanc issu neck hurt', 'along persist cough weak arm leg sever back pain lot troubl experienc issu vertigo balanc loss neck hurt', 'experienc sever back pain cough produc phlegm weak muscl neck also hurt feel dizzi unsteadi feet', 'addit excruci back pain also cough mucu feel weak feel lighthead unstabl feet neck hurt well', 'muscl quit weak cough phlegm along signific back discomfort addit feel weak disori neck hurt', 'along phlegmi cough muscl weak deal excruci back pain addit feel woozi shaki feet neck hurt', 'deal back pain persist cough weak limb neck sore issu dizzi loss balanc', 'back ach chronic cough limb weak bother troubl disorient balanc loss neck hurt', 'back pain cough go away limb weak experienc neck pain instabl balanc concern', 'suffer back pain chronic cough weak arm leg neck hurt feel dizzi balanc', 'back pain persist cough numb arm leg bother neck hurt feel lighthead unsteadi', 'back pain persist cough weak arm leg neck hurt feel balanc woozi', 'struggl back pain product cough weak muscl neck sore problem dizzi unsteadi balanc', 'back pain product cough muscl weak bother issu dizzi uneven balanc neck hurt', 'experienc intens itch vomit fatigu also lost weight high fever skin turn yellow urin dark also experienc abdomin pain', 'feel extrem scratchi sick worn addit lost weight temperatur urin dark skin turn yellow addit stomach pain', 'felt realli scratchi nauseat worn also high fever lost weight skin urin becom yellow addit stomach hurt', 'extrem itchi sick exhaust plagu addit develop fever lost weight pee black develop yellow rash addit stomach ach', 'sever itch vomit also tire lost weight fever high skin turn yellow urin dark experienc abdomin pain', 'experienc intens itch nausea lost weight also realli exhaust skin becom yellow sever fever dark urin stomach pain', 'throw experienc intens itch along lose weight also realli exhaust skin becom yellow fever realli high stomach pain pee black', 'strong itchi nausea bother also lost weight realli exhaust high fever skin becom yellow addit feel stomach ach pee black', 'experienc terribl itch nausea lost weight also realli exhaust skin becom yellow sever temperatur dark urin stomach ach', 'feel itchi vomit also fatigu lost weight fever high skin becom yellow urin dark abdomin pain', 'feel scratchi throw lost weight also realli exhaust skin becom yellow sever fever stomach ach black urin', 'itchi throw along lose weight also realli exhaust skin turn yellow fever high addit get stomach ach dark urin', 'scratchi stomach throw asid lose weight also realli exhaust high fever yellow skin besid stomach ach pee black', 'itchi throw addit lost weight feel realli exhaust skin becom yellow sever temperatur abdomin ach black urin', 'exhaust experienc nausea itch addit lost weight temperatur urin dark skin turn yellow addit stomach pain', 'suffer itch vomit fatigu also lost weight high fever skin turn yellow urin dark also experienc abdomin pain', 'feel scratchi sick worn also high fever lost weight skin urin becom yellow addit stomach pain', 'itch nausea weari bother addit develop fever lost weight pee black develop yellow rash addit stomach ach', 'nausea vomit exhaust addit lost weight temperatur urin black skin turn yellow also stomach pain', 'experienc intens itch vomit fatigu also lost weight high fever skin turn yellow urin dark abdomin pain well', 'feel extrem scratchi sick worn addit lost weight temperatur urin dark skin turn yellow addit experienc stomach pain', 'feel extrem scratchi sick worn addit lost weight temperatur urin dark skin turn yellow addit experienc stomach pain', 'feel extrem scratchi sick worn addit lost weight temperatur urin dark skin turn yellow addit experienc stomach pain', 'constantli feel scratchi sick tire addit lost weight temperatur urin dark skin turn yellow furthermor experienc stomach pain', 'felt realli scratchi nauseat worn also high fever lost weight skin urin becom yellow also experienc stomach pain', 'sever itch vomit fatigu also lost weight high fever skin turn yellow urin dark also experienc abdomin pain', 'feel realli scratchi dizzi worn addit lost weight temperatur urin dark skin turn yellow addit get stomach pain', 'experienc intens itchi nausea exhaust also high fever lost weight skin urin becom yellow addit stomach hurt', 'extrem itchi nausea exhaust bother addit develop fever lost weight pee black develop yellow rash ach stomach also present', 'extrem itchi nausea fatigu troubl moreov experienc fever lost weight pee black develop yellow rash ach stomach also present', 'feel itchi vomit also tire lost weight fever high skin becom yellow experienc abdomin pain well', 'itchi throw along lose weight also realli exhaust skin turn yellow fever high stomach also hurt recent', 'scratchi stomach throw also lost weight realli exhaust high fever yellow skin well stomach pain', 'itchi throw lost weight also realli exhaust skin becom yellow sever temperatur stomach also hurt', 'exhaust experienc nausea itch addit lost weight temperatur urin dark skin turn yellow addit stomach pain', 'suffer itch vomit fatigu also lost weight high fever skin turn yellow urin dark also experienc abdomin pain', 'feel scratchi sick worn also high fever lost weight skin urin becom yellow addit stomach pain', 'itch nausea weari bother addit develop fever lost weight pee black develop yellow rash addit stomach ach', 'experienc intens itch vomit fatigu also lost weight high fever skin turn yellow urin dark abdomin pain well', 'feel extrem scratchi sick worn addit lost weight temperatur urin dark skin turn yellow addit experienc stomach pain', 'felt realli scratchi nauseat worn also high fever lost weight skin urin becom yellow also experienc stomach pain', 'sever itch vomit fatigu also lost weight high fever skin turn yellow urin dark also experienc abdomin pain', 'feel realli scratchi dizzi worn addit lost weight temperatur urin dark skin turn yellow addit get stomach pain', 'experienc intens itchi nausea exhaust also high fever lost weight skin urin becom yellow addit stomach hurt', 'experienc itch vomit fatigu weight loss fever high skin turn yellow urin dark experienc abdomin pain', 'lose weight experienc nausea itch exhaust skin becom yellow sever fever dark urin stomach pain', 'suffer intens itch vomit fatigu weight loss fever high skin turn yellow urin dark experienc abdomin pain', 'lose weight experienc sever itch nausea exhaust skin becom yellow sever fever dark urin stomach pain', 'experienc sever itch vomit fatigu weight loss fever high skin turn yellow urin dark experienc abdomin pain', 'lose weight feel realli fatigu throw lot skin becom yellow sever fever dark urin stomach pain', 'experienc sever itch chill vomit high fever also sweat lot headach feel nauseou muscl realli sore', 'high temperatur vomit chill intens itch also headach perspir lot queasi muscl hurt lot', 'high temperatur vomit chill intens itch also headach perspir lot queasi muscl hurt lot', 'strong itchi chill nausea high temperatur plagu besid headach also perspir lot muscl quit sore feel sick', 'along intens scratch chill nausea high fever also feel realli unwel along headach excess sweat muscl hurt lot feel queasi', 'high fever chill intens itch addit headach perspir lot muscl hurt lot feel sick', 'intens itch bodi accompani chill vomit fever realli high sweat excess also headach feel nauseou muscl realli pain', 'experienc sever bodi itchi chill vomit realli high fever perspir lot also feel queasi headach muscl excruci discomfort', 'along sever bodi itchi chill nausea experienc sever perspir high fever feel queasi also headach realli hurt muscl', 'experienc sever bodi itchi chill vomit realli high fever perspir lot also feel queasi headach muscl excruci discomfort', 'experienc sever bodi itchi along chill nausea perspir lot extrem high fever feel sick stomach headach muscl hurt lot', 'suffer intens itch chill vomit high fever also sweat lot headach nausea muscl pain also bother', 'high fever sever itch chill vomit also headach perspir lot addit hurt nausea muscl sore', 'high temperatur vomit chill sever itch addit perspir lot headach also bother nausea muscl ach', 'strong itchi chill nausea high fever part current condit besid headach perspir lot bother nausea well muscl ach', 'high fever chill sever itch addit headach perspir lot also bother nausea muscular ach', 'high fever sever itch chill vomit also headach perspir lot addit hurt nausea muscl sore', 'high temperatur vomit chill sever itch addit perspir lot headach also bother nausea muscl ach', 'experienc sever itch chill vomit high fever also sweat excess headach nausea muscl pain also caus discomfort', 'high temperatur vomit chill intens itch also headach perspir lot discomfort also brought nausea muscl ach', 'strong itchi chill nausea high temperatur plagu along headach also perspir lot also bother nausea muscl ach', 'along intens scratch chill nausea high fever also feel realli unwel headach also perspir lot uncomfort nausea muscl ach', 'high fever chill intens itch addit headach perspir lot suffer nausea well muscl ach', 'high temperatur vomit chill intens itch also headach perspir lot discomfort also brought nausea muscl ach', 'intens itch chill vomit high fever also sweat lot headach nausea muscl pain make feel miser', 'experienc lot scratch chill vomit fever also headach perspir lot terribl nausea sore muscl', 'experienc sever itch chill nausea high fever besid headach also perspir lot terribl nausea muscl ach', 'high fever chill sever itch along headach excess sweat terribl nausea muscl ach', 'high fever chill sever itch addit headach perspir lot feel aw nausea muscl ach', 'experienc sever itch chill vomit high fever also sweat lot headach nausea muscl pain caus lot discomfort', 'high temperatur vomit chill intens itch also headach perspir lot realli uncomfort late nausea muscl ach', 'strong itchi chill nausea high temperatur plagu besid headach also perspir lot suffer sever muscl pain nausea', 'along intens scratch chill nausea high fever also feel realli unwel along headach excess sweat suffer sever muscl pain nausea', 'high fever chill intens itch addit headach perspir lot lot agoni muscl ach nausea', 'intens itch chill vomit high fever also sweat excess headach nausea muscl pain also bother', 'experienc lot scratch chill vomit fever also headach perspir lot addit hurt nausea muscl sore', 'experienc sever itch chill nausea high fever along headach also perspir lot also bother nausea muscl ach', 'high fever chill sever itch headach also perspir lot bother nausea well muscl ach', 'experienc sever itch chill vomit high fever addit headach perspir lot also bother nausea muscular ach', 'suffer sever itch chill vomit high fever also sweat lot headach nausea muscl pain also caus discomfort', 'high fever sever itch chill vomit also headach perspir lot discomfort also brought nausea muscl ach', 'high fever sever itch chill vomit addit perspir lot headach also bother nausea muscl ach', 'strong itchi chill nausea high fever part current condit besid headach perspir lot uncomfort nausea muscl ach', 'strong itchi chill nausea high fever part current condit addit headach perspir lot suffer nausea well muscl ach', 'high fever sever itch chill vomit also headach perspir lot discomfort also brought nausea muscl ach', 'experienc intens itch chill vomit high fever also sweat lot headach nausea muscl pain make feel miser', 'intens scratch chill nausea high temperatur plagu also headach perspir lot terribl nausea sore muscl', 'along high fever chill vomit sever itch besid headach also perspir lot terribl nausea muscl ach', 'along high fever chill vomit sever itch along headach excess sweat feel aw nausea muscl ach', 'sever itch chill vomit high fever also sweat excess headach nausea muscl pain also caus lot discomfort', 'frequent urg urin littl output pain urin cloudi bloodi urin strong foul smell urin pelvic pain low fever nausea vomit', 'get frequent urg urin night littl output lot pain urin urin coludi bloodi sometim foul smell get nauseou', 'get burn sensat pee sometim lot pain foul smell urin get urg urin night', 'get blood pee sometim get nauseou pee often almost coincid high temperatur', 'pee look cloudi storng foul smell frequent get urg urin night get high temperatur sinc symptom strted show', 'pain abdomen often get feverish sudden strong urg pee pain almost constant often increas night time pee almost alway foul smell', 'frequent get sudden strong urg pee blood pee sometim foul smell think infect', 'get blood pee sometim sometim get nauseou whie pee also bad smell pee sometim get high temperatur night help', 'pain lower abdomen get bure sensat pee also get low temperatur sinc start get symptom weak', 'blood urin low fever head hurt almost time get strong uncontrol urg pee pain lower back also', 'low temperatur bloodi pee sinc day head hurt like crazi pee also smell foul almost control pee get sudden urg', 'pain near pelvic region vomit lot sometim blood pee almost foul smell urin sometim get headch troubl sleep due', 'constantli go bathroom reliev cant seem empti bladder get strong uncontrol urg pee sometim get dark bloodi pee', 'low temperatu foul smell pee area near kidney hurt lot cant seem hold pee often get uncontrol urg', 'go bathroom time urin output low often drop stomach hurt lot cant seem abl control urg pee', 'pee dark often bloodi often unfathom smell temperatur fluctuat pretti frequent often not abl sleep night', 'pain bladder get', 'urin blood occasion feel queasi urin frequent almost fever time', 'pee strong unpleas scent hazi appear sinc symptom start appear regularli feel desir urin night experienc high temperatur', 'stomach hurt frequent acquir temperatur experi sudden intens crave urin discomfort virtual alway frequent get wors night pee nearli alway smell bad', 'experienc frequent intens abrupt crave urin sometim get blood pee smell aw believ infect', 'occasion urin blood occasion feel queasi help also occasion get high temp night terribl odour come pee', 'lower abdomin ach burst sensat urin sinc began experi addit symptom also experienc low bodi temperatur weak result', 'mild temperatur blood pee head hurt almost constantli frequent experi sever involuntari desir urin addit experienc lower back ach', 'sinc day ago experienc low temperatur bloodi urin head excruci pain urin smell aw hardli control urin impuls come suddenli', 'frequent vomit get discomfort pelvic area urin occasion smell almost unbear bad occasion blood headach time problem fall asleep', 'use restroom frequent reliev seem get bladder empti occasion get sever uncontrol desir urin well black crimson urin', 'experienc realli low mood bad urin odour seem keep urin back area near kidney hurt lot frequent experi irrat crave', 'use restroom frequent yet drop pee usual produc stomach ach lot seem control desir urin', 'urin frequent black red realli strang odour experienc temperatur chang regularli usual prevent sleep night', 'blood found urin sometim nausea urin regularli feel like almost feverish', 'pee smell strongli cloudi appear high temperatur regular urg urin night sinc symptom first materialis', 'frequent strong sudden urg urin occasion urin blood stench horribl ought think infect', 'rare occas pee blood mild nausea help also occasion experi high nighttim temperatur dread urin odour', 'lower abdomen hurt urin feel like explod low bodi temp ever sinc start new symptom weak', 'blood pee low bodi temperatur practic continu headach often strong uncontrol need urin addit start lower back pain', 'low temp bloodi urin past four day pee smell terribl head hurt like hell scarc control urin urg strike without warn', 'regularli vomit get pelvic pain occasion blood pee occasion absolut intoler odour occasion troubl fall asleep migrain', 'need reliev regularli seem get bladder empti sometim get intens uncontrol urg urin along dark red urin', 'spirit incred low pee smell aw kidney region hurt lot seem hold urin get unreason urg time', 'go bathroom lot gener drop urin come sever stomach pain overwhelm want urin', 'urin often weird odour crimson black colour bodi temperatur fluctuat often typic keep night', 'notic blood urin occasion feel sick urin frequent feel though fever', 'pee strong odour hazi look sinc symptom start high temperatur frequent nighttim urg urin', 'occasion urin blood feel littl queasi help also occasion get horribl pee odour excess overnight temp', 'lower abdomen ach feel like may explod urin sinc began experienc new symptom bodi temperatur consist low weak', 'last four day experienc low temperatur blood pee head hurt much urin smell aw desir urin seldom come cue hardli ever control', 'pee frequent odd smell either red black frequent chang bodi temperatur usual keep awak night', 'pee smell strongli seem cloudi fever frequent overnight urin need ever sinc symptom began', 'low temp blood urin past three day pee smell terribl head hurt much urinari urg seldom occur cue almost never control', 'runni nose sneez time eye itchi often wateri cough time head hurt time', 'sore throat sneez time sometim swell face like lip near eye cant stop sneez start sneez', 'hace difficulti breeth short breath cough uncontrol get itchi eye swell face bodi part', 'nasal congest block nose sometim night chest pain tight also lost sens smell tast', 'asthma like symptom like wheez difficulti breath often get fever headach feel tire time', 'feel tire time lost tast realli sore throat also get feverish often muscl ach sometim whole bodi cramp', 'experienc loss appetit difficulti swallow food suffer sore throat runnni nose also', 'feel fatigu time tingl sensat throat also develop flaki skin sometim get puffi eye sometim puff', 'stomach cramp nausea diarrhea throat swollen difficulti breath sometim night night get chest pain nauseou', 'itchi red skin sometim result flake face lip puff caus lot inconvini get wateri eye sometim headch puf get sever', 'often sneez runni nose eye scratchi frequent runni frequent cough head hurt constantli', 'often sneez sore throat lip area around eye occasion swell start sneez stop', 'troubl breath get short breath dri hack cough itchi eye swell face bodi', 'plug nose nasal congest occasion stiff chest discomfort night also lost abil tast smell', 'get symptom asthma wheez breath problem frequent headach fever time feel exhaust', 'alway feel exhaust bad tast extrem scratchi throat also muscular pain heat entir bodi simpli cramp occasion', 'lose appetit also troubl swallow nose run sore throat', 'alway worn experienc tingl throat also start dri skin eye occasion swell', 'feel queasi nauseou dizzi swell throat breath issu occasion chest discomfort nausea night', 'skin red scratchi occasion flake cheek lip swell realli annoy occasion headach runni eye puf', 'frequent sneez nose run constantli cough eye sore wateri head hurt time', 'sore throat frequent sneez sometim skin around eye lip swell stop sneez get go', 'respiratori issu experi breathless face torso swollen eye itch dri hack cough', 'nasal congest block nose occas night stiff chest pain addit lost sens tast smell', 'get breath issu wheez asthma symptom regularli fever headach constantli feel worn', 'alway feel worn unpleas tast mouth realli itchi throat muscl also hot hurt sometim whole bodi cramp', 'along lose appetit swallow issu sore throat nose run', 'alway feel exhaust tickl throat skin also start feel dri occasion get ocular swell', 'dizzi nauseat shaki troubl breath sinc throat swollen occas throughout night chest hurt feel sick', 'skin irrit inflam sometim flake lip cheek expand realli unpleas puf occasion headach wet eye', 'nose run sneez lot eye wet hurt cough time head ach constantli', 'sneez lot sore throat lip skin surround eye occasion swell start stop sneez', 'breath problem becom breath easili eye ach dri hack cough face bodi bloat', 'plug nose nasal congest occasion stiff chest discomfort night also lost abil smell tast', 'get wheez breath difficulti asthma symptom frequent headach fever continu exhaust', 'alway feel exhaust bad tast mouth throat itch lot also heat pain muscl entir bodi cramp time', 'lose appetit troubl swallow nose run sore throat', 'alway get tickl throat feel fatigu skin begun feel dri well ocular edema occas', 'feel queasi sick wobbl throat enlarg make difficult breath chest occasion pain night occasion feel ill', 'skin swollen itchi may occasion flake hurt lot cheek lip swell occasion get headach wateri eye puf', 'sneez lot nose run eye ach damp frequent croak head hurt time', 'sore throat lot sneez time skin around eye lip swell find start cannot stop', 'troubl breath easili get breath face torso swollen eye hurt dri hack cough', 'nasal congest block nose occas night stiff chest pain also lost sens tast smell', 'get breath issu wheez asthma symptom regularli fever headach alway worn', 'frequent exhaust terribl tast mouth throat itchi muscl also burn uncomfort sometim cramp throughout bodi', 'appetit decreas swallow issu sore throat nose run', 'throat alway tickl worn addit skin start feel dri ocular inflamm occasion affect', 'nauseou ill shaki huge throat make tough breath occasion nighttim chest ach occasion sick', 'skin itch swollen sometim could flake lip cheek swell ach lot puf occasion give headach runni eye', 'often get aburn sensat throat especi eat sometim also leav sour bitter tast mouth get nauseo beacus', 'heartburn indigest often vomit whatev eat difficultli swallow food beacus food get stuck throat nag pain upper abdomen', 'frequent belch burp chest pain often radiat back neck jaw arm get feel tight pressur chest', 'persist sour tast mouth even eaten anyth acid get frequent hiccup feel lump throat', 'chronic bad breath sour tast mouth sometim get difficult swallow food tingl sensat throat', 'get frequent heartburn indigest especi eat spici food fatti food get chest pain get wors lie bend also often chest pain', 'loss appetit difficulti swallow often persist feel full even eat small meal usual throw get heartburn tingl sensat throat', 'sore throat hoars especi morn chronic nag pain throat bad breath also frequent belch', 'feel food acid back throat chest pain get wors lie get frequent heartburn indigest eat food vomit', 'feel uneasi eat usual vomit whatev eaten alway pain abdomen realli bad acid reflux', 'throat frequent feel like burn especi eat addit occasion get sour bitter aftertast caus feel queasi', 'indigest heartburn frequent vomit everyth eat troubl swallow food get caught throat upper abdomen bother', 'burp belch frequent frequent get chest discomfort spread back neck jaw arm pressur tension chest', 'even anyth acid stomach constantli sour tast mouth frequent hiccup lump throat', 'alway foul breath sour tast mouth occasion tingl throat make difficult swallow meal', 'frequent heartburn indigest particularli consum spici fatti food lie stoop chest discomfort worsen chest hurt quit bit', 'feel like eat swallow challeng even eat littl meal frequent get linger sens full typic heartburn nausea tingl throat', 'often wake sore throat scratchi voic throat hurt constantli also poor breath also frequent burp', 'feel though acid food back throat chest hurt lie make wors eat frequent heartburn indigest throw', 'eat get queasi frequent throw everyth eaten alway get sever abdomin ach terribl acid reflux', 'especi eat throat regularli feel like burn also occasion get bitter sour aftertast make feel sick', 'heartburn indigest regularli vomit everyth eat food get stuck throat make difficult swallow pain upper abdomen', 'belch burp common often get chest pain radiat back neck jaw arm chest pressur stress', 'get sour tast mouth time even noth acid stomach often get hiccup lump throat', 'period find challeng swallow food due tingl throat bad breath bad tast mouth', 'regularli indigest heartburn especi eat spici fatti food chest pain wors hunch lie addit chest hurt lot', 'not mood eat swallow difficult often linger feel full even littl meal typic symptom includ heartburn nausea throat tingl', 'frequent get scratchi voic pain throat wake bad breath continu sore throat also vomit lot', 'throat feel though food acid back lie make chest pain regularli heartburn indigest eat puke', 'often feel sick eat puke entir meal constantli get excruci acid reflux sever stomach pain', 'throat often feel like burn especi eat bitter sour aftertast occasion experi also make feel unwel', 'indigest heartburn frequent vomit everyth eat hard swallow sinc food get caught throat upper abdomen discomfort', 'tendenc belch burp frequent frequent get chest pain spread arm jaw back neck pressur stress chest', 'even anyth acid stomach constantli sour tast mouth frequent lump throat hiccup', 'period tingl throat poor breath bad tast mouth make difficult swallow meal', 'routin experi heartburn indigest particularli consum spici fatti food lean forward lie chest discomfort becom wors chest hurt lot well', 'feel like eat swallow challeng even littl meal frequent get linger sensat full normal symptom includ nausea heartburn tingl throat', 'regularli wake scratchi voic sore throat throat constantli irrit horribl breath frequent throw', 'feel like food acid back throat chest discomfort becom wors lie eat frequent heartburn indigest throw', 'eat frequent feel unwel throw entir meal suffer pain acid reflux excruci stomach discomfort time', 'especi eat throat frequent feel scorch occasion get bitter sour aftertast make feel sick', 'heartburn indigest regularli throw everyth eat swallow difficult sinc food get stuck throat experienc pain upper abdomen', 'tendenc burp belch regularli often get chest discomfort radiat arm jaw neck chest feel tight stress', 'alway get sour tast mouth even anyth acid stomach regularli hiccup knot throat', 'occasion troubl swallow food tingl throat terribl breath bad tast mouth', 'frequent indigest heartburn especi eat spici fatti food chest hurt lean forward lie addit chest hurt lot', 'regularli feel sick eat puke entir meal constantli get horribl acid reflux agoni stomach discomfort', 'throat often feel like fire especi eat occasion get aftertast sour bitter make feel nauseou', 'even anyth acid stomach constantli sour tast mouth frequent lump throat hiccup', 'not mood eat swallow difficult often linger feel full even littl meal typic symptom includ heartburn nausea throat tingl', 'metal tast mouth also sens chang tast smell sometim get unbear joint pain muscl pain', 'headach migrain difficulti sleep muscl twitch tremor sometim get lighthead', 'fever feel dizzi lighthead heart beat fast feel confus not abl think clear everyth feel foggi', 'rash skin flake time time leav prone infect finger start twitch sometim experi tremor', 'feel nauseou chest pain recent experienc chest pain feel uneasi often sweat profus', 'itch bodi rash chest back get flaki skin time time often leav mark bodi', 'hair loss signific chang textur hair dri itchi sclap increas dandruff skin also get dri', 'experienc decreas sex drive difficulti fucntion sexual feel light head confus often experinc brain fog', 'experienc chang menstrual cycl unexpect vagin discharg often get mood swing feel agit time time', 'experinenc signific weight gain becom obes chang appetit crave differ food', 'difficulti maintian concentr low mental clariti often forget thing gener difficulti rememb thing', 'addit experienc chang tast fragranc also metal aftertast tongu occasion get excruci joint muscular pain', 'suffer migrain headach troubl fall asleep muscl trembl twitch sometim feel dizzi', 'feel realli lighthead dizzi temperatur mind complet muddl heart race find difficult think clearli everyth seem quit hazi', 'skin occasion peel rash make vulner infect hand begin shake occasion tremor', 'sever nausea chest discomfort chest discomfort late often shiver lot feel realli nervou', 'rash chest back itch bodi occasion flaki skin frequent creat mark bodi', 'hair textur significantli chang experienc hair loss scalp dri itch dandruff becom wors skin also becom realli dri', 'sex desir decreas find harder function sexual regularli brain fog feel quit dizzi disori', 'monthli cycl chang unexpect vagin discharg frequent experi mood swing experi occasion agit', 'gain lot weight quit fat appetit vari desir variou thing', 'struggl maintain focu mental clariti realli poor troubl rememb thing frequent forget stuff', 'tongu also metal aftertast addit chang tast scent occasion get acut muscl joint ach', 'headach migrain difficulti sleep entir bodi shake twitch sometim becom lighthead', 'fever feel quit woozi lighthead heart pound head absolut foggi abil think properli impair everyth appear somewhat blurri', 'rash occasion caus skin peel suscept ill result start trembl sometim hand start shake', 'chest pain extrem nausea present recent chest hurt frequent shiver lot realli anxiou', 'bodi itch rash back chest skin flaki sometim commonli result bodi mark', 'lose hair hair textur consider alter dandruff becom wors dri itchi scalp skin get quit dri well', 'desir sex drop troubl sex frequent get brain fog well feel somewhat bewild', 'notic differ monthli cycl unexpect vagin discharg becom irrit everi mood swing lot', 'put lot weight obes differ urg differ appetit', 'terribl mental clariti find difficult stay focus regularli forget thing problem rememb thing', 'along chang tast smell tongu also metal aftertast occasion get sever joint muscular pain', 'suffer migrain headach troubl fall asleep whole bodi trembl shiver time dizzi', 'quit queasi dizzi temperatur brain complet cloudi heart race troubl think straight everyth seem littl fuzzi', 'sometim skin start flake rash prone becom sick result occas hand begin quiver begin trembl', 'sever nausea chest discomfort chest ach late realli nervou shiver lot time', 'rash back chest entir bodi itch skin may dri flaki time frequent leav bodi mark', 'shed hair textur hair chang significantli dri itchi scalp dandruff becom wors skin also becom pretti dri', 'longer want sex difficult regularli brain fog sens confus', 'monthli cycl chang unexpect vagin discharg occasion lose temper mood chang lot', 'gain lot weight current quit fat mani inclin crave', 'aw mental clariti troubl focus frequent forget thing struggl memori', 'tongu also chang tast scent leav metal aftertast excruci joint muscl pain', 'headach migrain difficulti sleep shake shiver sometim becom lighthead', 'temperatur feel pretti nauseou lighthead heart pound mind absolut foggi everyth feel littl hazi difficulti think clearli', 'rash occasion caus skin start fall like get ill result hand occasion start trembl start shake', 'chest pain sever nausea present recent chest hurt trembl lot quit anxiou', 'entir bodi itch rash back chest sometim skin might dri flaki often result bodi stain', 'burn sensat upper abdomen ofetn night heartburn indigest often feel nauseou', 'bloat feel uneasi experienc weight loss loss appetit sometim dark tarri stool blood vomit', 'difficulti swallow food often get sensat food get stuck throat constant belch bloat persit sour tast mouth', 'bloodi stool result bloo loss loss iron thii caus anemia feel weak gener', 'persist gnaw hunger apetit sometim get abdomin cramp spasm bloat ga eat caus great deal uneasi', 'chang bowel movement constip diarrhea loss appetit energi often feel fatigu', 'abdomin pain get wors bend lie feel discomfort eat certain food spici acid food sometim get loos stool', 'difficulti sleep due abdomin pain discomfort loss appetit feel fatigu go bathroom feel tite time', 'sour acid tast mouth frequent belch burp feel pressur full upper abdomen last hour', 'unintend weight loss difficulti gain weight pain discomfort reliev take antacid mouth tast bad', 'occasion throughout day night burn upper abdomen get indigest heartburn frequent bout extrem nausea', 'bloat uneas present lose weight lose interest food occasion get tarri black stool vomit contain blood', 'troubl swallow frequent feel like food get stuck throat feel bloat belch constantli alway get sour tast mouth', 'bloodi stool caus lose iron bloo among thing anaemia gener feel quit weak', 'hunger appetit persist raven period stomach may cramp spasm eat bloat ga make quit uncomfort', 'bowel motion chang constip diarrhoeal lack energi appetit frequent feel realli exhaust', 'stomach ach bend lie make wors consum certain meal spici acid cuisin discomfort sometim caus loos stool', 'troubl fall stay asleep stomach ach use restroom feel drain lose appetit constantli feel realli anxiou', 'mouth fill sour acid flavour burp belch frequent hour get pressur full upper belli', 'lose weight unintent find challeng acquir weight use antacid eas pain discomfort experi mouth feel horribl', 'occasion burn upper abdomen throughout day night get heartburn indigest regular episod sever nausea', 'feel bloat uneasi time lose weight longer like eat occasion get bloodi vomit dark tarri stool', 'often feel like food get caught throat problem swallow feel bloat frequent belch constantli bitter aftertast', 'lost lot stuff bloodi stool includ iron bloo anaemia usual feel fairli weak', 'appetit chronic hunger feroci stomach may occasion ach spasm ga bloat eat realli pain', 'bowel movement becom constip diarrheal often feel quit tire lack energi appetit', 'bend reclin make stomach feel pain eat food hot acid food occasion get loos stool result', 'due stomach discomfort problem sleep stay asleep exhaust use bathroom lose appetit quit nervou time', 'sour acid tast mouth belch burp common pressur full upper abdomen hour', 'unknowingli lose weight find difficult gain weight reliev pain discomfort feel take antacid mouth hurt much', 'occas throughout day night burn upper abdomen frequent get extrem nauseou episod heartburn indigest', 'bloat uneas longer like eat lose weight sometim vomit blood tarri black stool', 'frequent get swallow issu sensat food get stuck throat regularli belch feel bloat aftertast unpleas time', 'bloodi stool caus lose lot thing includ iron bloo anaemia result typic feel rather weak', 'appetit ongo hunger fierc time stomach hurt cramp follow meal pain ga bloat', 'constip diarrheal bowel motion happen frequent lack energi appetit', 'stomach feel wors stoop reclin eat particular meal spici acid cuisin discomfort occasion caus loos stool', 'stomach ach keep fall stay asleep use restroom feel worn lose interest food constantli pretti anxiou', 'mouth fill acid sour flavour burp belch frequent hour upper abdomen felt pressur full', 'inadvert lose weight hard time gain back use antacid get rid pain discomfort experi ach much mouth', 'occasion burn upper abdomen throughout day night regularli get sever heartburn indigest nausea', 'feel bloat uneasi lose weight longer like eat occasion get tarri black stool blood vomit', 'regularli troubl swallow sometim feel like food becom trap throat frequent feel bloat belch everi time bad aftertast', 'lost lot stuff bloodi stool includ iron bloo result anaemia gener feel rather weak', 'strong appetit constantli hungri stomach occasion ach cramp realli pain ga bloat eat', 'experienc bowel movement constip diarrhoeic often lack eat energi', 'hunch lie stomach hurt pain eat certain food hot acid food occasion get loos stool result', 'get sleep remain asleep stomach pain get exhaust use bathroom stop hungri worri lot time', 'mouth fill sour acid flavour frequent belch burp upper abdomen felt press full past hour', 'unintent lose weight find challeng gain back reliev pain discomfort feel take antacid mouth hurt sever right', 'increas thirst frequent urin often dri mouth throat recent increas hunger appetit', 'blur vision seem get wors feel fatigu tire time also feel dizzi light head time', 'dri mouth throat also experienc increas appetit hunger howev feel tire time', 'slow heal wound cut tingl sensat hand numb hand feet', 'mood chang difficulti concentr mind feel hazi foggi time get difficult even regular chore', 'feel tremor muscl twitch decreas sens smell tast feel fatigu sometim feel rapid hearbeat palipat', 'rash skin irrit especi fold skin also slow heal cut bruis skin', 'frequent need urin often uncontrol urg feel dizzi often confus also loss visual', 'difficulti breath especi physic activ unusu sweat flush frequent get yeast infect', 'persist dri cough infect dont seem heal palpit also problem sore throat seem go away', 'drink water urin frequent throat mouth frequent dri recent appetit hunger grown', 'vision foggi seem grow wors constantli feel worn exhaust addit occasion sever lightheaded dizzi', 'throat mouth dri also feel hungri hungri sometim feel quit exhaust', 'sluggish wound reduc heal rate hand feet numb tingl sensat', 'struggl focu emot swing time head seem cloudi foggi make challeng even simpl task', 'feel muscl trembl shake feel worn sens tast smell diminish sometim palpit quick heartbeat', 'experi skin irrit rash especi skin creas wound bruis skin also heal quit slowli', 'frequent feel want urin frequent strong crave frequent feel woozi bewild also sight loss', 'troubl breath especi exercis flush sweat unexpect way yeast infect lot', 'chronic dri cough palpit infect appear get better also pain throat issu although seem go away', 'water intak frequenc urin increas mouth throat regularli feel dri appetit hunger increas recent', 'blurri vision seem get wors continu fatigu worn also occasion acut lightheaded vertigo', 'mouth throat dri addit grow increasingli hungri occas feel rather worn', 'wound heal slowli slower rate hand feet numb tingl time', 'troubl focus emot fluctuat brain might seem murki foggi time make difficult complet even straightforward chore', 'bodi shake trembl sens tast smell gotten weaker feel exhaust occasion palpit rapid puls', 'rash skin irrit especi crevic skin skin bruis cut also take long time heal', 'often feel want urin experi intens desir often feel dizzi confus also lost sight', 'respiratori issu especi unexpectedli sweat flush frequent yeast infect urinari tract infect', 'constantli dri cough infect seem heal palpit throat hurt occasion appear get better', 'drink water urin frequent throat mouth frequent feel dri recent hunger appetit grown', 'vision foggi appear grow wors feel exhaust worn time also sever dizzi lightheaded occas', 'throat mouth dri also get hungri howev occasion feel rather exhaust', 'wound recov slowli hand feet tingl go numb feel weak', 'emot chang difficulti focus time mind might cloudi hazi make challeng even simpl task', 'entir bodi trembl shaki lost abil tast smell worn sometim get race heart palpit', 'get skin irrit rash especi skin crevic cut bruis skin also take heal', 'frequent feel want urin strong crave get woozi disori lot moreov lost vision consider', 'breath problem especi outsid suddenli flush perspir experi yeast infect urinari tract infect rather regularli', 'dri cough never stop palpit infect appear get better sometim throat hurt seem get better', 'water intak frequenc urin increas mouth throat feel dri lot hunger appetit increas recent', 'vision blurri feel like get wors time feel worn fatigu occasion extrem lightheaded vertigo well', 'mouth throat dri addit grow increasingli hungri howev get period bout exhaust', 'wound heal slowli day feet hand tingl becom numb feel realli fragil', 'emot fluctuat hard concentr mind foggi foggi time make difficult perform even simpl chore', 'shake trembl lost sens tast smell exhaust occasion get palpit speed heart', 'particularli crevic skin skin rash irrit skin bruis cut take heal well', 'regularli experi intens urg want urin frequent feel drowsi lost also significantli lost vision', 'troubl breath especi outsid start feel hot start sweat frequent urinari tract infect yeast infect', 'constantli sneez dri cough infect seem heal palpit throat ach occasion usual get better']\n"
          ]
        }
      ]
    },
    {
      "cell_type": "code",
      "source": [
        "from sklearn.feature_extraction.text import CountVectorizer\n",
        "cv = CountVectorizer(max_features = 1500)\n",
        "X = cv.fit_transform(corpus).toarray()\n",
        "y = dataset.iloc[:, 1].values\n",
        "#from sklearn.preprocessing import LabelEncoder\n",
        "#le = LabelEncoder()\n",
        "#y = le.fit_transform(y)"
      ],
      "metadata": {
        "id": "spZLZ3eqRf8K"
      },
      "execution_count": 5,
      "outputs": []
    },
    {
      "cell_type": "code",
      "source": [
        "print(X)\n",
        "print(y)"
      ],
      "metadata": {
        "colab": {
          "base_uri": "https://localhost:8080/"
        },
        "id": "AwIMbhpdR2GL",
        "outputId": "ad79221b-b500-46e9-c4a8-d750c0e1cf6a"
      },
      "execution_count": 6,
      "outputs": [
        {
          "output_type": "stream",
          "name": "stdout",
          "text": [
            "[[0 0 0 ... 0 0 0]\n",
            " [0 0 0 ... 0 0 0]\n",
            " [0 0 0 ... 0 0 0]\n",
            " ...\n",
            " [0 0 0 ... 0 0 0]\n",
            " [0 0 0 ... 0 0 0]\n",
            " [0 0 0 ... 0 0 0]]\n",
            "['Psoriasis' 'Psoriasis' 'Psoriasis' ... 'diabetes' 'diabetes' 'diabetes']\n"
          ]
        }
      ]
    },
    {
      "cell_type": "code",
      "source": [
        "from sklearn.model_selection import train_test_split\n",
        "X_train, X_test, y_train, y_test = train_test_split(X, y, test_size = 0.20, random_state = 0)"
      ],
      "metadata": {
        "id": "i_tVM2wiTJU6"
      },
      "execution_count": 7,
      "outputs": []
    },
    {
      "cell_type": "code",
      "source": [
        "from sklearn.ensemble import RandomForestClassifier\n",
        "classifier = RandomForestClassifier(n_estimators = 100, criterion = 'entropy', random_state = 0)\n",
        "classifier.fit(X_train, y_train)"
      ],
      "metadata": {
        "colab": {
          "base_uri": "https://localhost:8080/",
          "height": 74
        },
        "id": "00q7x_VxTxYD",
        "outputId": "6d8d1945-7b0b-4def-a0bb-14db59cd27e1"
      },
      "execution_count": 8,
      "outputs": [
        {
          "output_type": "execute_result",
          "data": {
            "text/plain": [
              "RandomForestClassifier(criterion='entropy', random_state=0)"
            ],
            "text/html": [
              "<style>#sk-container-id-1 {color: black;background-color: white;}#sk-container-id-1 pre{padding: 0;}#sk-container-id-1 div.sk-toggleable {background-color: white;}#sk-container-id-1 label.sk-toggleable__label {cursor: pointer;display: block;width: 100%;margin-bottom: 0;padding: 0.3em;box-sizing: border-box;text-align: center;}#sk-container-id-1 label.sk-toggleable__label-arrow:before {content: \"▸\";float: left;margin-right: 0.25em;color: #696969;}#sk-container-id-1 label.sk-toggleable__label-arrow:hover:before {color: black;}#sk-container-id-1 div.sk-estimator:hover label.sk-toggleable__label-arrow:before {color: black;}#sk-container-id-1 div.sk-toggleable__content {max-height: 0;max-width: 0;overflow: hidden;text-align: left;background-color: #f0f8ff;}#sk-container-id-1 div.sk-toggleable__content pre {margin: 0.2em;color: black;border-radius: 0.25em;background-color: #f0f8ff;}#sk-container-id-1 input.sk-toggleable__control:checked~div.sk-toggleable__content {max-height: 200px;max-width: 100%;overflow: auto;}#sk-container-id-1 input.sk-toggleable__control:checked~label.sk-toggleable__label-arrow:before {content: \"▾\";}#sk-container-id-1 div.sk-estimator input.sk-toggleable__control:checked~label.sk-toggleable__label {background-color: #d4ebff;}#sk-container-id-1 div.sk-label input.sk-toggleable__control:checked~label.sk-toggleable__label {background-color: #d4ebff;}#sk-container-id-1 input.sk-hidden--visually {border: 0;clip: rect(1px 1px 1px 1px);clip: rect(1px, 1px, 1px, 1px);height: 1px;margin: -1px;overflow: hidden;padding: 0;position: absolute;width: 1px;}#sk-container-id-1 div.sk-estimator {font-family: monospace;background-color: #f0f8ff;border: 1px dotted black;border-radius: 0.25em;box-sizing: border-box;margin-bottom: 0.5em;}#sk-container-id-1 div.sk-estimator:hover {background-color: #d4ebff;}#sk-container-id-1 div.sk-parallel-item::after {content: \"\";width: 100%;border-bottom: 1px solid gray;flex-grow: 1;}#sk-container-id-1 div.sk-label:hover label.sk-toggleable__label {background-color: #d4ebff;}#sk-container-id-1 div.sk-serial::before {content: \"\";position: absolute;border-left: 1px solid gray;box-sizing: border-box;top: 0;bottom: 0;left: 50%;z-index: 0;}#sk-container-id-1 div.sk-serial {display: flex;flex-direction: column;align-items: center;background-color: white;padding-right: 0.2em;padding-left: 0.2em;position: relative;}#sk-container-id-1 div.sk-item {position: relative;z-index: 1;}#sk-container-id-1 div.sk-parallel {display: flex;align-items: stretch;justify-content: center;background-color: white;position: relative;}#sk-container-id-1 div.sk-item::before, #sk-container-id-1 div.sk-parallel-item::before {content: \"\";position: absolute;border-left: 1px solid gray;box-sizing: border-box;top: 0;bottom: 0;left: 50%;z-index: -1;}#sk-container-id-1 div.sk-parallel-item {display: flex;flex-direction: column;z-index: 1;position: relative;background-color: white;}#sk-container-id-1 div.sk-parallel-item:first-child::after {align-self: flex-end;width: 50%;}#sk-container-id-1 div.sk-parallel-item:last-child::after {align-self: flex-start;width: 50%;}#sk-container-id-1 div.sk-parallel-item:only-child::after {width: 0;}#sk-container-id-1 div.sk-dashed-wrapped {border: 1px dashed gray;margin: 0 0.4em 0.5em 0.4em;box-sizing: border-box;padding-bottom: 0.4em;background-color: white;}#sk-container-id-1 div.sk-label label {font-family: monospace;font-weight: bold;display: inline-block;line-height: 1.2em;}#sk-container-id-1 div.sk-label-container {text-align: center;}#sk-container-id-1 div.sk-container {/* jupyter's `normalize.less` sets `[hidden] { display: none; }` but bootstrap.min.css set `[hidden] { display: none !important; }` so we also need the `!important` here to be able to override the default hidden behavior on the sphinx rendered scikit-learn.org. See: https://github.com/scikit-learn/scikit-learn/issues/21755 */display: inline-block !important;position: relative;}#sk-container-id-1 div.sk-text-repr-fallback {display: none;}</style><div id=\"sk-container-id-1\" class=\"sk-top-container\"><div class=\"sk-text-repr-fallback\"><pre>RandomForestClassifier(criterion=&#x27;entropy&#x27;, random_state=0)</pre><b>In a Jupyter environment, please rerun this cell to show the HTML representation or trust the notebook. <br />On GitHub, the HTML representation is unable to render, please try loading this page with nbviewer.org.</b></div><div class=\"sk-container\" hidden><div class=\"sk-item\"><div class=\"sk-estimator sk-toggleable\"><input class=\"sk-toggleable__control sk-hidden--visually\" id=\"sk-estimator-id-1\" type=\"checkbox\" checked><label for=\"sk-estimator-id-1\" class=\"sk-toggleable__label sk-toggleable__label-arrow\">RandomForestClassifier</label><div class=\"sk-toggleable__content\"><pre>RandomForestClassifier(criterion=&#x27;entropy&#x27;, random_state=0)</pre></div></div></div></div></div>"
            ]
          },
          "metadata": {},
          "execution_count": 8
        }
      ]
    },
    {
      "cell_type": "code",
      "source": [
        "y_pred = classifier.predict(X_test)\n",
        "print(np.concatenate((y_pred.reshape(len(y_pred),1), y_test.reshape(len(y_test),1)),1))"
      ],
      "metadata": {
        "colab": {
          "base_uri": "https://localhost:8080/"
        },
        "id": "wDWi2z4NUOA9",
        "outputId": "f713dcd8-2319-4dac-8fff-e9206f8af07b"
      },
      "execution_count": 9,
      "outputs": [
        {
          "output_type": "stream",
          "name": "stdout",
          "text": [
            "[['Chicken pox' 'Chicken pox']\n",
            " ['Fungal infection' 'Fungal infection']\n",
            " ['Psoriasis' 'Psoriasis']\n",
            " ['Dengue' 'Dengue']\n",
            " ['Bronchial Asthma' 'Bronchial Asthma']\n",
            " ['Arthritis' 'Arthritis']\n",
            " ['Chicken pox' 'Chicken pox']\n",
            " ['allergy' 'allergy']\n",
            " ['Typhoid' 'peptic ulcer disease']\n",
            " ['drug reaction' 'drug reaction']\n",
            " ['Fungal infection' 'Fungal infection']\n",
            " ['drug reaction' 'drug reaction']\n",
            " ['Fungal infection' 'Fungal infection']\n",
            " ['Common Cold' 'Common Cold']\n",
            " ['Common Cold' 'Common Cold']\n",
            " ['Pneumonia' 'Pneumonia']\n",
            " ['allergy' 'allergy']\n",
            " ['Impetigo' 'Impetigo']\n",
            " ['Varicose Veins' 'Varicose Veins']\n",
            " ['drug reaction' 'drug reaction']\n",
            " ['allergy' 'allergy']\n",
            " ['allergy' 'allergy']\n",
            " ['drug reaction' 'drug reaction']\n",
            " ['drug reaction' 'drug reaction']\n",
            " ['allergy' 'allergy']\n",
            " ['Psoriasis' 'Psoriasis']\n",
            " ['Migraine' 'Migraine']\n",
            " ['Impetigo' 'Impetigo']\n",
            " ['Malaria' 'Malaria']\n",
            " ['peptic ulcer disease' 'peptic ulcer disease']\n",
            " ['Psoriasis' 'Psoriasis']\n",
            " ['Psoriasis' 'Psoriasis']\n",
            " ['Jaundice' 'Jaundice']\n",
            " ['Bronchial Asthma' 'Bronchial Asthma']\n",
            " ['Acne' 'Acne']\n",
            " ['peptic ulcer disease' 'peptic ulcer disease']\n",
            " ['Impetigo' 'Impetigo']\n",
            " ['urinary tract infection' 'urinary tract infection']\n",
            " ['Jaundice' 'Jaundice']\n",
            " ['Pneumonia' 'Pneumonia']\n",
            " ['diabetes' 'diabetes']\n",
            " ['Chicken pox' 'Chicken pox']\n",
            " ['Arthritis' 'Arthritis']\n",
            " ['Typhoid' 'Typhoid']\n",
            " ['Hypertension' 'Hypertension']\n",
            " ['Arthritis' 'Arthritis']\n",
            " ['Fungal infection' 'Fungal infection']\n",
            " ['gastroesophageal reflux disease' 'gastroesophageal reflux disease']\n",
            " ['drug reaction' 'drug reaction']\n",
            " ['Hypertension' 'Hypertension']\n",
            " ['Hypertension' 'Hypertension']\n",
            " ['gastroesophageal reflux disease' 'gastroesophageal reflux disease']\n",
            " ['peptic ulcer disease' 'peptic ulcer disease']\n",
            " ['Jaundice' 'Jaundice']\n",
            " ['gastroesophageal reflux disease' 'gastroesophageal reflux disease']\n",
            " ['peptic ulcer disease' 'peptic ulcer disease']\n",
            " ['Psoriasis' 'Psoriasis']\n",
            " ['Dengue' 'Dengue']\n",
            " ['Acne' 'Acne']\n",
            " ['allergy' 'allergy']\n",
            " ['Psoriasis' 'Psoriasis']\n",
            " ['Pneumonia' 'Pneumonia']\n",
            " ['Fungal infection' 'Fungal infection']\n",
            " ['Bronchial Asthma' 'Bronchial Asthma']\n",
            " ['drug reaction' 'drug reaction']\n",
            " ['Acne' 'Acne']\n",
            " ['Acne' 'Acne']\n",
            " ['Hypertension' 'Hypertension']\n",
            " ['Cervical spondylosis' 'Cervical spondylosis']\n",
            " ['gastroesophageal reflux disease' 'gastroesophageal reflux disease']\n",
            " ['Dimorphic Hemorrhoids' 'Dimorphic Hemorrhoids']\n",
            " ['Malaria' 'Malaria']\n",
            " ['Migraine' 'Migraine']\n",
            " ['Dimorphic Hemorrhoids' 'Dimorphic Hemorrhoids']\n",
            " ['Cervical spondylosis' 'Cervical spondylosis']\n",
            " ['drug reaction' 'drug reaction']\n",
            " ['Jaundice' 'Jaundice']\n",
            " ['Malaria' 'Malaria']\n",
            " ['Common Cold' 'Common Cold']\n",
            " ['Acne' 'Acne']\n",
            " ['allergy' 'allergy']\n",
            " ['peptic ulcer disease' 'peptic ulcer disease']\n",
            " ['Acne' 'Acne']\n",
            " ['Impetigo' 'Impetigo']\n",
            " ['Impetigo' 'Impetigo']\n",
            " ['allergy' 'allergy']\n",
            " ['Varicose Veins' 'Varicose Veins']\n",
            " ['Hypertension' 'Hypertension']\n",
            " ['Hypertension' 'Hypertension']\n",
            " ['allergy' 'allergy']\n",
            " ['Migraine' 'Migraine']\n",
            " ['Pneumonia' 'Pneumonia']\n",
            " ['allergy' 'allergy']\n",
            " ['Pneumonia' 'Common Cold']\n",
            " ['Hypertension' 'Hypertension']\n",
            " ['Typhoid' 'Typhoid']\n",
            " ['Migraine' 'Migraine']\n",
            " ['gastroesophageal reflux disease' 'gastroesophageal reflux disease']\n",
            " ['diabetes' 'diabetes']\n",
            " ['Migraine' 'Migraine']\n",
            " ['Hypertension' 'Hypertension']\n",
            " ['Fungal infection' 'Fungal infection']\n",
            " ['Bronchial Asthma' 'Bronchial Asthma']\n",
            " ['Jaundice' 'Jaundice']\n",
            " ['Psoriasis' 'Psoriasis']\n",
            " ['Fungal infection' 'Fungal infection']\n",
            " ['Dengue' 'Dengue']\n",
            " ['Jaundice' 'Jaundice']\n",
            " ['Typhoid' 'Typhoid']\n",
            " ['allergy' 'allergy']\n",
            " ['Chicken pox' 'Chicken pox']\n",
            " ['Acne' 'Acne']\n",
            " ['peptic ulcer disease' 'peptic ulcer disease']\n",
            " ['gastroesophageal reflux disease' 'gastroesophageal reflux disease']\n",
            " ['Acne' 'Acne']\n",
            " ['Migraine' 'Migraine']\n",
            " ['Cervical spondylosis' 'Cervical spondylosis']\n",
            " ['Migraine' 'Migraine']\n",
            " ['gastroesophageal reflux disease' 'gastroesophageal reflux disease']\n",
            " ['drug reaction' 'drug reaction']\n",
            " ['Chicken pox' 'Typhoid']\n",
            " ['Dimorphic Hemorrhoids' 'Dimorphic Hemorrhoids']\n",
            " ['Hypertension' 'Hypertension']\n",
            " ['Psoriasis' 'Psoriasis']\n",
            " ['diabetes' 'diabetes']\n",
            " ['Arthritis' 'Arthritis']\n",
            " ['Jaundice' 'Jaundice']\n",
            " ['Malaria' 'Malaria']\n",
            " ['Dimorphic Hemorrhoids' 'Dimorphic Hemorrhoids']\n",
            " ['diabetes' 'diabetes']\n",
            " ['Acne' 'Acne']\n",
            " ['Arthritis' 'Arthritis']\n",
            " ['Pneumonia' 'Pneumonia']\n",
            " ['Hypertension' 'Hypertension']\n",
            " ['urinary tract infection' 'urinary tract infection']\n",
            " ['diabetes' 'allergy']\n",
            " ['diabetes' 'diabetes']\n",
            " ['gastroesophageal reflux disease' 'gastroesophageal reflux disease']\n",
            " ['Impetigo' 'Impetigo']\n",
            " ['Common Cold' 'Common Cold']\n",
            " ['Chicken pox' 'Dengue']\n",
            " ['peptic ulcer disease' 'peptic ulcer disease']\n",
            " ['Psoriasis' 'Psoriasis']\n",
            " ['peptic ulcer disease' 'peptic ulcer disease']\n",
            " ['allergy' 'allergy']\n",
            " ['Dimorphic Hemorrhoids' 'Dimorphic Hemorrhoids']\n",
            " ['Chicken pox' 'Chicken pox']\n",
            " ['peptic ulcer disease' 'peptic ulcer disease']\n",
            " ['Migraine' 'Migraine']\n",
            " ['Jaundice' 'Jaundice']\n",
            " ['drug reaction' 'drug reaction']\n",
            " ['Cervical spondylosis' 'Cervical spondylosis']\n",
            " ['Dimorphic Hemorrhoids' 'Dimorphic Hemorrhoids']\n",
            " ['Chicken pox' 'Chicken pox']\n",
            " ['Acne' 'Acne']\n",
            " ['Varicose Veins' 'Varicose Veins']\n",
            " ['Common Cold' 'Common Cold']\n",
            " ['Dimorphic Hemorrhoids' 'Dimorphic Hemorrhoids']\n",
            " ['peptic ulcer disease' 'Psoriasis']\n",
            " ['Bronchial Asthma' 'Bronchial Asthma']\n",
            " ['Common Cold' 'Common Cold']\n",
            " ['Bronchial Asthma' 'Bronchial Asthma']\n",
            " ['peptic ulcer disease' 'peptic ulcer disease']\n",
            " ['Common Cold' 'Common Cold']\n",
            " ['Psoriasis' 'Psoriasis']\n",
            " ['Varicose Veins' 'Varicose Veins']\n",
            " ['Cervical spondylosis' 'Cervical spondylosis']\n",
            " ['Chicken pox' 'Chicken pox']\n",
            " ['drug reaction' 'drug reaction']\n",
            " ['Jaundice' 'Jaundice']\n",
            " ['gastroesophageal reflux disease' 'gastroesophageal reflux disease']\n",
            " ['Malaria' 'Malaria']\n",
            " ['diabetes' 'diabetes']\n",
            " ['Jaundice' 'Jaundice']\n",
            " ['Dimorphic Hemorrhoids' 'Dimorphic Hemorrhoids']\n",
            " ['Arthritis' 'Arthritis']\n",
            " ['Bronchial Asthma' 'Bronchial Asthma']\n",
            " ['Arthritis' 'Arthritis']\n",
            " ['diabetes' 'diabetes']\n",
            " ['Psoriasis' 'Psoriasis']\n",
            " ['Pneumonia' 'Pneumonia']\n",
            " ['Cervical spondylosis' 'Cervical spondylosis']\n",
            " ['Hypertension' 'Hypertension']\n",
            " ['peptic ulcer disease' 'peptic ulcer disease']\n",
            " ['Arthritis' 'Arthritis']\n",
            " ['gastroesophageal reflux disease' 'gastroesophageal reflux disease']\n",
            " ['Arthritis' 'Arthritis']\n",
            " ['Fungal infection' 'Fungal infection']\n",
            " ['diabetes' 'diabetes']\n",
            " ['diabetes' 'diabetes']\n",
            " ['Bronchial Asthma' 'Bronchial Asthma']\n",
            " ['Hypertension' 'Hypertension']\n",
            " ['Varicose Veins' 'Varicose Veins']\n",
            " ['Dengue' 'Dengue']\n",
            " ['Jaundice' 'Jaundice']\n",
            " ['Hypertension' 'Hypertension']\n",
            " ['Common Cold' 'Common Cold']\n",
            " ['Migraine' 'Migraine']\n",
            " ['Dengue' 'Dengue']\n",
            " ['Cervical spondylosis' 'Cervical spondylosis']\n",
            " ['Impetigo' 'Impetigo']\n",
            " ['Malaria' 'Malaria']\n",
            " ['Malaria' 'Malaria']\n",
            " ['gastroesophageal reflux disease' 'gastroesophageal reflux disease']\n",
            " ['Varicose Veins' 'Varicose Veins']\n",
            " ['Chicken pox' 'Chicken pox']\n",
            " ['Arthritis' 'Arthritis']\n",
            " ['Dimorphic Hemorrhoids' 'Dimorphic Hemorrhoids']\n",
            " ['Acne' 'Acne']\n",
            " ['diabetes' 'allergy']\n",
            " ['Chicken pox' 'Chicken pox']\n",
            " ['urinary tract infection' 'urinary tract infection']\n",
            " ['Impetigo' 'Impetigo']\n",
            " ['Bronchial Asthma' 'Bronchial Asthma']\n",
            " ['Varicose Veins' 'Varicose Veins']\n",
            " ['Jaundice' 'Jaundice']\n",
            " ['Dimorphic Hemorrhoids' 'Dimorphic Hemorrhoids']\n",
            " ['Migraine' 'Migraine']\n",
            " ['gastroesophageal reflux disease' 'gastroesophageal reflux disease']\n",
            " ['Pneumonia' 'Pneumonia']\n",
            " ['diabetes' 'diabetes']\n",
            " ['Acne' 'Acne']\n",
            " ['Malaria' 'Malaria']\n",
            " ['urinary tract infection' 'urinary tract infection']\n",
            " ['Acne' 'Acne']\n",
            " ['Varicose Veins' 'Varicose Veins']\n",
            " ['Common Cold' 'Common Cold']\n",
            " ['Impetigo' 'Impetigo']\n",
            " ['Jaundice' 'Jaundice']\n",
            " ['Migraine' 'Migraine']\n",
            " ['Hypertension' 'Hypertension']\n",
            " ['diabetes' 'diabetes']\n",
            " ['Dimorphic Hemorrhoids' 'Dimorphic Hemorrhoids']\n",
            " ['Fungal infection' 'Fungal infection']\n",
            " ['Varicose Veins' 'allergy']\n",
            " ['peptic ulcer disease' 'peptic ulcer disease']\n",
            " ['Varicose Veins' 'Varicose Veins']\n",
            " ['Arthritis' 'Arthritis']\n",
            " ['Hypertension' 'Hypertension']\n",
            " ['urinary tract infection' 'urinary tract infection']]\n"
          ]
        }
      ]
    },
    {
      "cell_type": "code",
      "source": [
        "from sklearn.metrics import confusion_matrix, accuracy_score\n",
        "cm = confusion_matrix(y_test, y_pred)\n",
        "print(cm)\n",
        "accuracy_score(y_test, y_pred)"
      ],
      "metadata": {
        "colab": {
          "base_uri": "https://localhost:8080/"
        },
        "id": "_Lz0vEx_UVdk",
        "outputId": "6180ffcb-44d0-47aa-e4dd-97c0369d9d44"
      },
      "execution_count": 10,
      "outputs": [
        {
          "output_type": "stream",
          "name": "stdout",
          "text": [
            "[[13  0  0  0  0  0  0  0  0  0  0  0  0  0  0  0  0  0  0  0  0  0  0  0]\n",
            " [ 0 11  0  0  0  0  0  0  0  0  0  0  0  0  0  0  0  0  0  0  0  0  0  0]\n",
            " [ 0  0  9  0  0  0  0  0  0  0  0  0  0  0  0  0  0  0  0  0  0  0  0  0]\n",
            " [ 0  0  0  7  0  0  0  0  0  0  0  0  0  0  0  0  0  0  0  0  0  0  0  0]\n",
            " [ 0  0  0  0  9  0  0  0  0  0  0  0  0  0  0  0  0  0  0  0  0  0  0  0]\n",
            " [ 0  0  0  0  0  9  0  0  0  0  0  0  0  0  1  0  0  0  0  0  0  0  0  0]\n",
            " [ 0  0  0  0  1  0  5  0  0  0  0  0  0  0  0  0  0  0  0  0  0  0  0  0]\n",
            " [ 0  0  0  0  0  0  0 11  0  0  0  0  0  0  0  0  0  0  0  0  0  0  0  0]\n",
            " [ 0  0  0  0  0  0  0  0  9  0  0  0  0  0  0  0  0  0  0  0  0  0  0  0]\n",
            " [ 0  0  0  0  0  0  0  0  0 15  0  0  0  0  0  0  0  0  0  0  0  0  0  0]\n",
            " [ 0  0  0  0  0  0  0  0  0  0  9  0  0  0  0  0  0  0  0  0  0  0  0  0]\n",
            " [ 0  0  0  0  0  0  0  0  0  0  0 13  0  0  0  0  0  0  0  0  0  0  0  0]\n",
            " [ 0  0  0  0  0  0  0  0  0  0  0  0  8  0  0  0  0  0  0  0  0  0  0  0]\n",
            " [ 0  0  0  0  0  0  0  0  0  0  0  0  0 11  0  0  0  0  0  0  0  0  0  0]\n",
            " [ 0  0  0  0  0  0  0  0  0  0  0  0  0  0  7  0  0  0  0  0  0  0  0  0]\n",
            " [ 0  0  0  0  0  0  0  0  0  0  0  0  0  0  0 11  0  0  0  0  0  0  1  0]\n",
            " [ 0  0  0  0  1  0  0  0  0  0  0  0  0  0  0  0  3  0  0  0  0  0  0  0]\n",
            " [ 0  0  0  0  0  0  0  0  0  0  0  0  0  0  0  0  0  9  0  0  0  0  0  0]\n",
            " [ 0  0  0  0  0  0  0  0  0  0  0  0  0  0  0  0  0  1 12  2  0  0  0  0]\n",
            " [ 0  0  0  0  0  0  0  0  0  0  0  0  0  0  0  0  0  0  0 11  0  0  0  0]\n",
            " [ 0  0  0  0  0  0  0  0  0  0  0  0  0  0  0  0  0  0  0  0 11  0  0  0]\n",
            " [ 0  0  0  0  0  0  0  0  0  0  0  0  0  0  0  0  0  0  0  0  0 12  0  0]\n",
            " [ 0  0  0  0  0  0  0  0  0  0  0  0  0  0  0  0  1  0  0  0  0  0 12  0]\n",
            " [ 0  0  0  0  0  0  0  0  0  0  0  0  0  0  0  0  0  0  0  0  0  0  0  5]]\n"
          ]
        },
        {
          "output_type": "execute_result",
          "data": {
            "text/plain": [
              "0.9666666666666667"
            ]
          },
          "metadata": {},
          "execution_count": 10
        }
      ]
    },
    {
      "cell_type": "code",
      "source": [
        "'''\n",
        "test_text = ['I have a red eyes, runny nose. I am having cough and cold as well']\n",
        "#test_text = ['My stomach hurts and I feel nauseous. I have diarrhea and I feel weak.']\n",
        "#test_text = ['red, scaly patches on the skin, itching, dryness, cracking, and bleeding of the skin, swollen and stiff joints, and nail abnormalities.']\n",
        "\n",
        "print(f\"The symptom is: \\n {test_text[0]}\")\n",
        "X1 = cv.transform(test_text).toarray()\n",
        "y_pred = classifier.predict(X1)\n",
        "print('The possible disease is: ', y_pred)\n",
        "'''"
      ],
      "metadata": {
        "colab": {
          "base_uri": "https://localhost:8080/",
          "height": 88
        },
        "id": "lUKHVuaIVwb7",
        "outputId": "a87872d7-b67b-4024-cff2-95d55c46fa32"
      },
      "execution_count": 11,
      "outputs": [
        {
          "output_type": "execute_result",
          "data": {
            "text/plain": [
              "'\\ntest_text = [\\'I have a red eyes, runny nose. I am having cough and cold as well\\']\\n#test_text = [\\'My stomach hurts and I feel nauseous. I have diarrhea and I feel weak.\\']\\n#test_text = [\\'red, scaly patches on the skin, itching, dryness, cracking, and bleeding of the skin, swollen and stiff joints, and nail abnormalities.\\']\\n\\nprint(f\"The symptom is: \\n {test_text[0]}\")\\nX1 = cv.transform(test_text).toarray()\\ny_pred = classifier.predict(X1)\\nprint(\\'The possible disease is: \\', y_pred)\\n'"
            ],
            "application/vnd.google.colaboratory.intrinsic+json": {
              "type": "string"
            }
          },
          "metadata": {},
          "execution_count": 11
        }
      ]
    },
    {
      "cell_type": "code",
      "source": [
        "import pickle\n",
        "pickle.dump(classifier,open('model1.pkl','wb'))"
      ],
      "metadata": {
        "id": "J31enwRjYFJM"
      },
      "execution_count": 12,
      "outputs": []
    },
    {
      "cell_type": "code",
      "source": [
        "with open('CountVectorizer.pkl', 'wb') as file:\n",
        "    pickle.dump(cv, file)"
      ],
      "metadata": {
        "id": "fLUvdblagygo"
      },
      "execution_count": 13,
      "outputs": []
    }
  ]
}